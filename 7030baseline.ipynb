{
 "cells": [
  {
   "cell_type": "code",
   "execution_count": 2,
   "id": "09ece9dd",
   "metadata": {},
   "outputs": [
    {
     "name": "stderr",
     "output_type": "stream",
     "text": [
      "[nltk_data] Downloading package stopwords to C:\\nltk_data...\n",
      "[nltk_data]   Package stopwords is already up-to-date!\n",
      "[nltk_data] Downloading package wordnet to C:\\nltk_data...\n",
      "[nltk_data]   Package wordnet is already up-to-date!\n",
      "[nltk_data] Downloading package punkt to C:\\nltk_data...\n",
      "[nltk_data]   Package punkt is already up-to-date!\n"
     ]
    },
    {
     "name": "stdout",
     "output_type": "stream",
     "text": [
      "Loading and merging datasets...\n",
      "\n",
      "Available columns in DataFrame: ['id', 'comment_text', 'toxic', 'severe_toxic', 'obscene', 'threat', 'insult', 'identity_hate']\n",
      "Using 'toxic' column for labels\n",
      "Merged dataset shape: (184354, 2)\n",
      "Preparing data...\n",
      "\n",
      "Balancing classes...\n",
      "\n",
      "Setting up text cleaning...\n",
      "\n",
      "Cleaning text with simple apply...\n",
      "Loading word embeddings...\n",
      "Epoch 1/100\n",
      "\u001b[1m177/177\u001b[0m \u001b[32m━━━━━━━━━━━━━━━━━━━━\u001b[0m\u001b[37m\u001b[0m \u001b[1m0s\u001b[0m 623ms/step - accuracy: 0.7698 - loss: 4.7855"
     ]
    },
    {
     "name": "stderr",
     "output_type": "stream",
     "text": [
      "WARNING:absl:You are saving your model as an HDF5 file via `model.save()` or `keras.saving.save_model(model)`. This file format is considered legacy. We recommend using instead the native Keras format, e.g. `model.save('my_model.keras')` or `keras.saving.save_model(model, 'my_model.keras')`. \n"
     ]
    },
    {
     "name": "stdout",
     "output_type": "stream",
     "text": [
      "\u001b[1m177/177\u001b[0m \u001b[32m━━━━━━━━━━━━━━━━━━━━\u001b[0m\u001b[37m\u001b[0m \u001b[1m116s\u001b[0m 640ms/step - accuracy: 0.7701 - loss: 4.7830 - val_accuracy: 0.8852 - val_loss: 3.5285 - learning_rate: 5.0000e-05\n",
      "Epoch 2/100\n",
      "\u001b[1m177/177\u001b[0m \u001b[32m━━━━━━━━━━━━━━━━━━━━\u001b[0m\u001b[37m\u001b[0m \u001b[1m0s\u001b[0m 624ms/step - accuracy: 0.8775 - loss: 3.2712"
     ]
    },
    {
     "name": "stderr",
     "output_type": "stream",
     "text": [
      "WARNING:absl:You are saving your model as an HDF5 file via `model.save()` or `keras.saving.save_model(model)`. This file format is considered legacy. We recommend using instead the native Keras format, e.g. `model.save('my_model.keras')` or `keras.saving.save_model(model, 'my_model.keras')`. \n"
     ]
    },
    {
     "name": "stdout",
     "output_type": "stream",
     "text": [
      "\u001b[1m177/177\u001b[0m \u001b[32m━━━━━━━━━━━━━━━━━━━━\u001b[0m\u001b[37m\u001b[0m \u001b[1m113s\u001b[0m 640ms/step - accuracy: 0.8775 - loss: 3.2697 - val_accuracy: 0.9012 - val_loss: 2.4843 - learning_rate: 5.0000e-05\n",
      "Epoch 3/100\n",
      "\u001b[1m177/177\u001b[0m \u001b[32m━━━━━━━━━━━━━━━━━━━━\u001b[0m\u001b[37m\u001b[0m \u001b[1m0s\u001b[0m 616ms/step - accuracy: 0.8902 - loss: 2.3183"
     ]
    },
    {
     "name": "stderr",
     "output_type": "stream",
     "text": [
      "WARNING:absl:You are saving your model as an HDF5 file via `model.save()` or `keras.saving.save_model(model)`. This file format is considered legacy. We recommend using instead the native Keras format, e.g. `model.save('my_model.keras')` or `keras.saving.save_model(model, 'my_model.keras')`. \n"
     ]
    },
    {
     "name": "stdout",
     "output_type": "stream",
     "text": [
      "\u001b[1m177/177\u001b[0m \u001b[32m━━━━━━━━━━━━━━━━━━━━\u001b[0m\u001b[37m\u001b[0m \u001b[1m112s\u001b[0m 632ms/step - accuracy: 0.8902 - loss: 2.3173 - val_accuracy: 0.9087 - val_loss: 1.7635 - learning_rate: 5.0000e-05\n",
      "Epoch 4/100\n",
      "\u001b[1m177/177\u001b[0m \u001b[32m━━━━━━━━━━━━━━━━━━━━\u001b[0m\u001b[37m\u001b[0m \u001b[1m0s\u001b[0m 619ms/step - accuracy: 0.8981 - loss: 1.6542"
     ]
    },
    {
     "name": "stderr",
     "output_type": "stream",
     "text": [
      "WARNING:absl:You are saving your model as an HDF5 file via `model.save()` or `keras.saving.save_model(model)`. This file format is considered legacy. We recommend using instead the native Keras format, e.g. `model.save('my_model.keras')` or `keras.saving.save_model(model, 'my_model.keras')`. \n"
     ]
    },
    {
     "name": "stdout",
     "output_type": "stream",
     "text": [
      "\u001b[1m177/177\u001b[0m \u001b[32m━━━━━━━━━━━━━━━━━━━━\u001b[0m\u001b[37m\u001b[0m \u001b[1m112s\u001b[0m 635ms/step - accuracy: 0.8981 - loss: 1.6535 - val_accuracy: 0.9133 - val_loss: 1.2657 - learning_rate: 5.0000e-05\n",
      "Epoch 5/100\n",
      "\u001b[1m177/177\u001b[0m \u001b[32m━━━━━━━━━━━━━━━━━━━━\u001b[0m\u001b[37m\u001b[0m \u001b[1m0s\u001b[0m 617ms/step - accuracy: 0.9043 - loss: 1.1934"
     ]
    },
    {
     "name": "stderr",
     "output_type": "stream",
     "text": [
      "WARNING:absl:You are saving your model as an HDF5 file via `model.save()` or `keras.saving.save_model(model)`. This file format is considered legacy. We recommend using instead the native Keras format, e.g. `model.save('my_model.keras')` or `keras.saving.save_model(model, 'my_model.keras')`. \n"
     ]
    },
    {
     "name": "stdout",
     "output_type": "stream",
     "text": [
      "\u001b[1m177/177\u001b[0m \u001b[32m━━━━━━━━━━━━━━━━━━━━\u001b[0m\u001b[37m\u001b[0m \u001b[1m112s\u001b[0m 634ms/step - accuracy: 0.9043 - loss: 1.1929 - val_accuracy: 0.9147 - val_loss: 0.9227 - learning_rate: 5.0000e-05\n",
      "Epoch 6/100\n",
      "\u001b[1m177/177\u001b[0m \u001b[32m━━━━━━━━━━━━━━━━━━━━\u001b[0m\u001b[37m\u001b[0m \u001b[1m0s\u001b[0m 619ms/step - accuracy: 0.9073 - loss: 0.8804"
     ]
    },
    {
     "name": "stderr",
     "output_type": "stream",
     "text": [
      "WARNING:absl:You are saving your model as an HDF5 file via `model.save()` or `keras.saving.save_model(model)`. This file format is considered legacy. We recommend using instead the native Keras format, e.g. `model.save('my_model.keras')` or `keras.saving.save_model(model, 'my_model.keras')`. \n"
     ]
    },
    {
     "name": "stdout",
     "output_type": "stream",
     "text": [
      "\u001b[1m177/177\u001b[0m \u001b[32m━━━━━━━━━━━━━━━━━━━━\u001b[0m\u001b[37m\u001b[0m \u001b[1m112s\u001b[0m 634ms/step - accuracy: 0.9073 - loss: 0.8801 - val_accuracy: 0.9183 - val_loss: 0.6888 - learning_rate: 5.0000e-05\n",
      "Epoch 7/100\n",
      "\u001b[1m177/177\u001b[0m \u001b[32m━━━━━━━━━━━━━━━━━━━━\u001b[0m\u001b[37m\u001b[0m \u001b[1m0s\u001b[0m 621ms/step - accuracy: 0.9115 - loss: 0.6661"
     ]
    },
    {
     "name": "stderr",
     "output_type": "stream",
     "text": [
      "WARNING:absl:You are saving your model as an HDF5 file via `model.save()` or `keras.saving.save_model(model)`. This file format is considered legacy. We recommend using instead the native Keras format, e.g. `model.save('my_model.keras')` or `keras.saving.save_model(model, 'my_model.keras')`. \n"
     ]
    },
    {
     "name": "stdout",
     "output_type": "stream",
     "text": [
      "\u001b[1m177/177\u001b[0m \u001b[32m━━━━━━━━━━━━━━━━━━━━\u001b[0m\u001b[37m\u001b[0m \u001b[1m113s\u001b[0m 637ms/step - accuracy: 0.9115 - loss: 0.6659 - val_accuracy: 0.9216 - val_loss: 0.5340 - learning_rate: 5.0000e-05\n",
      "Epoch 8/100\n",
      "\u001b[1m177/177\u001b[0m \u001b[32m━━━━━━━━━━━━━━━━━━━━\u001b[0m\u001b[37m\u001b[0m \u001b[1m0s\u001b[0m 619ms/step - accuracy: 0.9123 - loss: 0.5246"
     ]
    },
    {
     "name": "stderr",
     "output_type": "stream",
     "text": [
      "WARNING:absl:You are saving your model as an HDF5 file via `model.save()` or `keras.saving.save_model(model)`. This file format is considered legacy. We recommend using instead the native Keras format, e.g. `model.save('my_model.keras')` or `keras.saving.save_model(model, 'my_model.keras')`. \n"
     ]
    },
    {
     "name": "stdout",
     "output_type": "stream",
     "text": [
      "\u001b[1m177/177\u001b[0m \u001b[32m━━━━━━━━━━━━━━━━━━━━\u001b[0m\u001b[37m\u001b[0m \u001b[1m112s\u001b[0m 635ms/step - accuracy: 0.9123 - loss: 0.5245 - val_accuracy: 0.9236 - val_loss: 0.4297 - learning_rate: 5.0000e-05\n",
      "Epoch 9/100\n",
      "\u001b[1m177/177\u001b[0m \u001b[32m━━━━━━━━━━━━━━━━━━━━\u001b[0m\u001b[37m\u001b[0m \u001b[1m0s\u001b[0m 616ms/step - accuracy: 0.9153 - loss: 0.4325"
     ]
    },
    {
     "name": "stderr",
     "output_type": "stream",
     "text": [
      "WARNING:absl:You are saving your model as an HDF5 file via `model.save()` or `keras.saving.save_model(model)`. This file format is considered legacy. We recommend using instead the native Keras format, e.g. `model.save('my_model.keras')` or `keras.saving.save_model(model, 'my_model.keras')`. \n"
     ]
    },
    {
     "name": "stdout",
     "output_type": "stream",
     "text": [
      "\u001b[1m177/177\u001b[0m \u001b[32m━━━━━━━━━━━━━━━━━━━━\u001b[0m\u001b[37m\u001b[0m \u001b[1m112s\u001b[0m 632ms/step - accuracy: 0.9153 - loss: 0.4324 - val_accuracy: 0.9246 - val_loss: 0.3628 - learning_rate: 5.0000e-05\n",
      "Epoch 10/100\n",
      "\u001b[1m177/177\u001b[0m \u001b[32m━━━━━━━━━━━━━━━━━━━━\u001b[0m\u001b[37m\u001b[0m \u001b[1m0s\u001b[0m 619ms/step - accuracy: 0.9159 - loss: 0.3676"
     ]
    },
    {
     "name": "stderr",
     "output_type": "stream",
     "text": [
      "WARNING:absl:You are saving your model as an HDF5 file via `model.save()` or `keras.saving.save_model(model)`. This file format is considered legacy. We recommend using instead the native Keras format, e.g. `model.save('my_model.keras')` or `keras.saving.save_model(model, 'my_model.keras')`. \n"
     ]
    },
    {
     "name": "stdout",
     "output_type": "stream",
     "text": [
      "\u001b[1m177/177\u001b[0m \u001b[32m━━━━━━━━━━━━━━━━━━━━\u001b[0m\u001b[37m\u001b[0m \u001b[1m112s\u001b[0m 634ms/step - accuracy: 0.9160 - loss: 0.3675 - val_accuracy: 0.9278 - val_loss: 0.3150 - learning_rate: 5.0000e-05\n",
      "Epoch 11/100\n",
      "\u001b[1m177/177\u001b[0m \u001b[32m━━━━━━━━━━━━━━━━━━━━\u001b[0m\u001b[37m\u001b[0m \u001b[1m0s\u001b[0m 617ms/step - accuracy: 0.9204 - loss: 0.3237"
     ]
    },
    {
     "name": "stderr",
     "output_type": "stream",
     "text": [
      "WARNING:absl:You are saving your model as an HDF5 file via `model.save()` or `keras.saving.save_model(model)`. This file format is considered legacy. We recommend using instead the native Keras format, e.g. `model.save('my_model.keras')` or `keras.saving.save_model(model, 'my_model.keras')`. \n"
     ]
    },
    {
     "name": "stdout",
     "output_type": "stream",
     "text": [
      "\u001b[1m177/177\u001b[0m \u001b[32m━━━━━━━━━━━━━━━━━━━━\u001b[0m\u001b[37m\u001b[0m \u001b[1m112s\u001b[0m 633ms/step - accuracy: 0.9204 - loss: 0.3236 - val_accuracy: 0.9282 - val_loss: 0.2861 - learning_rate: 5.0000e-05\n",
      "Epoch 12/100\n",
      "\u001b[1m177/177\u001b[0m \u001b[32m━━━━━━━━━━━━━━━━━━━━\u001b[0m\u001b[37m\u001b[0m \u001b[1m0s\u001b[0m 621ms/step - accuracy: 0.9220 - loss: 0.2942"
     ]
    },
    {
     "name": "stderr",
     "output_type": "stream",
     "text": [
      "WARNING:absl:You are saving your model as an HDF5 file via `model.save()` or `keras.saving.save_model(model)`. This file format is considered legacy. We recommend using instead the native Keras format, e.g. `model.save('my_model.keras')` or `keras.saving.save_model(model, 'my_model.keras')`. \n"
     ]
    },
    {
     "name": "stdout",
     "output_type": "stream",
     "text": [
      "\u001b[1m177/177\u001b[0m \u001b[32m━━━━━━━━━━━━━━━━━━━━\u001b[0m\u001b[37m\u001b[0m \u001b[1m113s\u001b[0m 637ms/step - accuracy: 0.9220 - loss: 0.2942 - val_accuracy: 0.9314 - val_loss: 0.2625 - learning_rate: 5.0000e-05\n",
      "Epoch 13/100\n",
      "\u001b[1m177/177\u001b[0m \u001b[32m━━━━━━━━━━━━━━━━━━━━\u001b[0m\u001b[37m\u001b[0m \u001b[1m112s\u001b[0m 635ms/step - accuracy: 0.9268 - loss: 0.2661 - val_accuracy: 0.9306 - val_loss: 0.2473 - learning_rate: 5.0000e-05\n",
      "Epoch 14/100\n",
      "\u001b[1m177/177\u001b[0m \u001b[32m━━━━━━━━━━━━━━━━━━━━\u001b[0m\u001b[37m\u001b[0m \u001b[1m112s\u001b[0m 635ms/step - accuracy: 0.9278 - loss: 0.2507 - val_accuracy: 0.9314 - val_loss: 0.2353 - learning_rate: 5.0000e-05\n",
      "Epoch 15/100\n",
      "\u001b[1m177/177\u001b[0m \u001b[32m━━━━━━━━━━━━━━━━━━━━\u001b[0m\u001b[37m\u001b[0m \u001b[1m113s\u001b[0m 639ms/step - accuracy: 0.9288 - loss: 0.2430 - val_accuracy: 0.9310 - val_loss: 0.2305 - learning_rate: 5.0000e-05\n",
      "Epoch 16/100\n",
      "\u001b[1m177/177\u001b[0m \u001b[32m━━━━━━━━━━━━━━━━━━━━\u001b[0m\u001b[37m\u001b[0m \u001b[1m0s\u001b[0m 616ms/step - accuracy: 0.9325 - loss: 0.2274"
     ]
    },
    {
     "name": "stderr",
     "output_type": "stream",
     "text": [
      "WARNING:absl:You are saving your model as an HDF5 file via `model.save()` or `keras.saving.save_model(model)`. This file format is considered legacy. We recommend using instead the native Keras format, e.g. `model.save('my_model.keras')` or `keras.saving.save_model(model, 'my_model.keras')`. \n"
     ]
    },
    {
     "name": "stdout",
     "output_type": "stream",
     "text": [
      "\u001b[1m177/177\u001b[0m \u001b[32m━━━━━━━━━━━━━━━━━━━━\u001b[0m\u001b[37m\u001b[0m \u001b[1m112s\u001b[0m 632ms/step - accuracy: 0.9325 - loss: 0.2274 - val_accuracy: 0.9340 - val_loss: 0.2187 - learning_rate: 5.0000e-05\n",
      "Epoch 17/100\n",
      "\u001b[1m177/177\u001b[0m \u001b[32m━━━━━━━━━━━━━━━━━━━━\u001b[0m\u001b[37m\u001b[0m \u001b[1m113s\u001b[0m 636ms/step - accuracy: 0.9334 - loss: 0.2196 - val_accuracy: 0.9324 - val_loss: 0.2153 - learning_rate: 5.0000e-05\n",
      "Epoch 18/100\n",
      "\u001b[1m177/177\u001b[0m \u001b[32m━━━━━━━━━━━━━━━━━━━━\u001b[0m\u001b[37m\u001b[0m \u001b[1m0s\u001b[0m 621ms/step - accuracy: 0.9351 - loss: 0.2107"
     ]
    },
    {
     "name": "stderr",
     "output_type": "stream",
     "text": [
      "WARNING:absl:You are saving your model as an HDF5 file via `model.save()` or `keras.saving.save_model(model)`. This file format is considered legacy. We recommend using instead the native Keras format, e.g. `model.save('my_model.keras')` or `keras.saving.save_model(model, 'my_model.keras')`. \n"
     ]
    },
    {
     "name": "stdout",
     "output_type": "stream",
     "text": [
      "\u001b[1m177/177\u001b[0m \u001b[32m━━━━━━━━━━━━━━━━━━━━\u001b[0m\u001b[37m\u001b[0m \u001b[1m113s\u001b[0m 640ms/step - accuracy: 0.9351 - loss: 0.2107 - val_accuracy: 0.9348 - val_loss: 0.2087 - learning_rate: 5.0000e-05\n",
      "Epoch 19/100\n",
      "\u001b[1m177/177\u001b[0m \u001b[32m━━━━━━━━━━━━━━━━━━━━\u001b[0m\u001b[37m\u001b[0m \u001b[1m112s\u001b[0m 635ms/step - accuracy: 0.9342 - loss: 0.2097 - val_accuracy: 0.9344 - val_loss: 0.2032 - learning_rate: 5.0000e-05\n",
      "Epoch 20/100\n",
      "\u001b[1m177/177\u001b[0m \u001b[32m━━━━━━━━━━━━━━━━━━━━\u001b[0m\u001b[37m\u001b[0m \u001b[1m0s\u001b[0m 620ms/step - accuracy: 0.9374 - loss: 0.1983"
     ]
    },
    {
     "name": "stderr",
     "output_type": "stream",
     "text": [
      "WARNING:absl:You are saving your model as an HDF5 file via `model.save()` or `keras.saving.save_model(model)`. This file format is considered legacy. We recommend using instead the native Keras format, e.g. `model.save('my_model.keras')` or `keras.saving.save_model(model, 'my_model.keras')`. \n"
     ]
    },
    {
     "name": "stdout",
     "output_type": "stream",
     "text": [
      "\u001b[1m177/177\u001b[0m \u001b[32m━━━━━━━━━━━━━━━━━━━━\u001b[0m\u001b[37m\u001b[0m \u001b[1m112s\u001b[0m 635ms/step - accuracy: 0.9374 - loss: 0.1983 - val_accuracy: 0.9352 - val_loss: 0.2003 - learning_rate: 5.0000e-05\n",
      "Epoch 21/100\n",
      "\u001b[1m177/177\u001b[0m \u001b[32m━━━━━━━━━━━━━━━━━━━━\u001b[0m\u001b[37m\u001b[0m \u001b[1m0s\u001b[0m 620ms/step - accuracy: 0.9399 - loss: 0.1940"
     ]
    },
    {
     "name": "stderr",
     "output_type": "stream",
     "text": [
      "WARNING:absl:You are saving your model as an HDF5 file via `model.save()` or `keras.saving.save_model(model)`. This file format is considered legacy. We recommend using instead the native Keras format, e.g. `model.save('my_model.keras')` or `keras.saving.save_model(model, 'my_model.keras')`. \n"
     ]
    },
    {
     "name": "stdout",
     "output_type": "stream",
     "text": [
      "\u001b[1m177/177\u001b[0m \u001b[32m━━━━━━━━━━━━━━━━━━━━\u001b[0m\u001b[37m\u001b[0m \u001b[1m112s\u001b[0m 635ms/step - accuracy: 0.9399 - loss: 0.1940 - val_accuracy: 0.9358 - val_loss: 0.1988 - learning_rate: 5.0000e-05\n",
      "Epoch 22/100\n",
      "\u001b[1m177/177\u001b[0m \u001b[32m━━━━━━━━━━━━━━━━━━━━\u001b[0m\u001b[37m\u001b[0m \u001b[1m0s\u001b[0m 628ms/step - accuracy: 0.9388 - loss: 0.1944"
     ]
    },
    {
     "name": "stderr",
     "output_type": "stream",
     "text": [
      "WARNING:absl:You are saving your model as an HDF5 file via `model.save()` or `keras.saving.save_model(model)`. This file format is considered legacy. We recommend using instead the native Keras format, e.g. `model.save('my_model.keras')` or `keras.saving.save_model(model, 'my_model.keras')`. \n"
     ]
    },
    {
     "name": "stdout",
     "output_type": "stream",
     "text": [
      "\u001b[1m177/177\u001b[0m \u001b[32m━━━━━━━━━━━━━━━━━━━━\u001b[0m\u001b[37m\u001b[0m \u001b[1m114s\u001b[0m 644ms/step - accuracy: 0.9388 - loss: 0.1944 - val_accuracy: 0.9377 - val_loss: 0.1982 - learning_rate: 5.0000e-05\n",
      "Epoch 23/100\n",
      "\u001b[1m177/177\u001b[0m \u001b[32m━━━━━━━━━━━━━━━━━━━━\u001b[0m\u001b[37m\u001b[0m \u001b[1m113s\u001b[0m 636ms/step - accuracy: 0.9397 - loss: 0.1852 - val_accuracy: 0.9364 - val_loss: 0.1928 - learning_rate: 5.0000e-05\n",
      "Epoch 24/100\n",
      "\u001b[1m177/177\u001b[0m \u001b[32m━━━━━━━━━━━━━━━━━━━━\u001b[0m\u001b[37m\u001b[0m \u001b[1m113s\u001b[0m 638ms/step - accuracy: 0.9396 - loss: 0.1852 - val_accuracy: 0.9370 - val_loss: 0.1895 - learning_rate: 5.0000e-05\n",
      "Epoch 25/100\n",
      "\u001b[1m177/177\u001b[0m \u001b[32m━━━━━━━━━━━━━━━━━━━━\u001b[0m\u001b[37m\u001b[0m \u001b[1m114s\u001b[0m 642ms/step - accuracy: 0.9422 - loss: 0.1787 - val_accuracy: 0.9368 - val_loss: 0.1906 - learning_rate: 5.0000e-05\n",
      "Epoch 26/100\n",
      "\u001b[1m177/177\u001b[0m \u001b[32m━━━━━━━━━━━━━━━━━━━━\u001b[0m\u001b[37m\u001b[0m \u001b[1m0s\u001b[0m 623ms/step - accuracy: 0.9439 - loss: 0.1743"
     ]
    },
    {
     "name": "stderr",
     "output_type": "stream",
     "text": [
      "WARNING:absl:You are saving your model as an HDF5 file via `model.save()` or `keras.saving.save_model(model)`. This file format is considered legacy. We recommend using instead the native Keras format, e.g. `model.save('my_model.keras')` or `keras.saving.save_model(model, 'my_model.keras')`. \n"
     ]
    },
    {
     "name": "stdout",
     "output_type": "stream",
     "text": [
      "\u001b[1m177/177\u001b[0m \u001b[32m━━━━━━━━━━━━━━━━━━━━\u001b[0m\u001b[37m\u001b[0m \u001b[1m113s\u001b[0m 639ms/step - accuracy: 0.9438 - loss: 0.1743 - val_accuracy: 0.9381 - val_loss: 0.1871 - learning_rate: 1.0000e-05\n",
      "Epoch 27/100\n",
      "\u001b[1m177/177\u001b[0m \u001b[32m━━━━━━━━━━━━━━━━━━━━\u001b[0m\u001b[37m\u001b[0m \u001b[1m113s\u001b[0m 636ms/step - accuracy: 0.9450 - loss: 0.1722 - val_accuracy: 0.9379 - val_loss: 0.1861 - learning_rate: 1.0000e-05\n",
      "Epoch 28/100\n",
      "\u001b[1m177/177\u001b[0m \u001b[32m━━━━━━━━━━━━━━━━━━━━\u001b[0m\u001b[37m\u001b[0m \u001b[1m113s\u001b[0m 637ms/step - accuracy: 0.9441 - loss: 0.1718 - val_accuracy: 0.9375 - val_loss: 0.1871 - learning_rate: 1.0000e-05\n",
      "Epoch 29/100\n",
      "\u001b[1m177/177\u001b[0m \u001b[32m━━━━━━━━━━━━━━━━━━━━\u001b[0m\u001b[37m\u001b[0m \u001b[1m112s\u001b[0m 635ms/step - accuracy: 0.9451 - loss: 0.1725 - val_accuracy: 0.9372 - val_loss: 0.1862 - learning_rate: 1.0000e-05\n",
      "Epoch 30/100\n",
      "\u001b[1m177/177\u001b[0m \u001b[32m━━━━━━━━━━━━━━━━━━━━\u001b[0m\u001b[37m\u001b[0m \u001b[1m115s\u001b[0m 651ms/step - accuracy: 0.9453 - loss: 0.1716 - val_accuracy: 0.9377 - val_loss: 0.1854 - learning_rate: 1.0000e-05\n",
      "Epoch 31/100\n",
      "\u001b[1m177/177\u001b[0m \u001b[32m━━━━━━━━━━━━━━━━━━━━\u001b[0m\u001b[37m\u001b[0m \u001b[1m0s\u001b[0m 614ms/step - accuracy: 0.9466 - loss: 0.1677"
     ]
    },
    {
     "name": "stderr",
     "output_type": "stream",
     "text": [
      "WARNING:absl:You are saving your model as an HDF5 file via `model.save()` or `keras.saving.save_model(model)`. This file format is considered legacy. We recommend using instead the native Keras format, e.g. `model.save('my_model.keras')` or `keras.saving.save_model(model, 'my_model.keras')`. \n"
     ]
    },
    {
     "name": "stdout",
     "output_type": "stream",
     "text": [
      "\u001b[1m177/177\u001b[0m \u001b[32m━━━━━━━━━━━━━━━━━━━━\u001b[0m\u001b[37m\u001b[0m \u001b[1m111s\u001b[0m 629ms/step - accuracy: 0.9466 - loss: 0.1678 - val_accuracy: 0.9383 - val_loss: 0.1849 - learning_rate: 1.0000e-05\n",
      "Epoch 32/100\n",
      "\u001b[1m177/177\u001b[0m \u001b[32m━━━━━━━━━━━━━━━━━━━━\u001b[0m\u001b[37m\u001b[0m \u001b[1m0s\u001b[0m 630ms/step - accuracy: 0.9471 - loss: 0.1630"
     ]
    },
    {
     "name": "stderr",
     "output_type": "stream",
     "text": [
      "WARNING:absl:You are saving your model as an HDF5 file via `model.save()` or `keras.saving.save_model(model)`. This file format is considered legacy. We recommend using instead the native Keras format, e.g. `model.save('my_model.keras')` or `keras.saving.save_model(model, 'my_model.keras')`. \n"
     ]
    },
    {
     "name": "stdout",
     "output_type": "stream",
     "text": [
      "\u001b[1m177/177\u001b[0m \u001b[32m━━━━━━━━━━━━━━━━━━━━\u001b[0m\u001b[37m\u001b[0m \u001b[1m114s\u001b[0m 646ms/step - accuracy: 0.9471 - loss: 0.1631 - val_accuracy: 0.9385 - val_loss: 0.1852 - learning_rate: 1.0000e-05\n",
      "Epoch 33/100\n",
      "\u001b[1m177/177\u001b[0m \u001b[32m━━━━━━━━━━━━━━━━━━━━\u001b[0m\u001b[37m\u001b[0m \u001b[1m112s\u001b[0m 632ms/step - accuracy: 0.9473 - loss: 0.1659 - val_accuracy: 0.9379 - val_loss: 0.1848 - learning_rate: 1.0000e-05\n",
      "Epoch 34/100\n",
      "\u001b[1m177/177\u001b[0m \u001b[32m━━━━━━━━━━━━━━━━━━━━\u001b[0m\u001b[37m\u001b[0m \u001b[1m112s\u001b[0m 635ms/step - accuracy: 0.9463 - loss: 0.1678 - val_accuracy: 0.9377 - val_loss: 0.1843 - learning_rate: 1.0000e-05\n",
      "Epoch 35/100\n",
      "\u001b[1m177/177\u001b[0m \u001b[32m━━━━━━━━━━━━━━━━━━━━\u001b[0m\u001b[37m\u001b[0m \u001b[1m112s\u001b[0m 631ms/step - accuracy: 0.9438 - loss: 0.1710 - val_accuracy: 0.9385 - val_loss: 0.1845 - learning_rate: 1.0000e-05\n",
      "Epoch 36/100\n",
      "\u001b[1m177/177\u001b[0m \u001b[32m━━━━━━━━━━━━━━━━━━━━\u001b[0m\u001b[37m\u001b[0m \u001b[1m112s\u001b[0m 631ms/step - accuracy: 0.9493 - loss: 0.1601 - val_accuracy: 0.9379 - val_loss: 0.1842 - learning_rate: 1.0000e-05\n",
      "Epoch 37/100\n",
      "\u001b[1m177/177\u001b[0m \u001b[32m━━━━━━━━━━━━━━━━━━━━\u001b[0m\u001b[37m\u001b[0m \u001b[1m0s\u001b[0m 617ms/step - accuracy: 0.9457 - loss: 0.1666"
     ]
    },
    {
     "name": "stderr",
     "output_type": "stream",
     "text": [
      "WARNING:absl:You are saving your model as an HDF5 file via `model.save()` or `keras.saving.save_model(model)`. This file format is considered legacy. We recommend using instead the native Keras format, e.g. `model.save('my_model.keras')` or `keras.saving.save_model(model, 'my_model.keras')`. \n"
     ]
    },
    {
     "name": "stdout",
     "output_type": "stream",
     "text": [
      "\u001b[1m177/177\u001b[0m \u001b[32m━━━━━━━━━━━━━━━━━━━━\u001b[0m\u001b[37m\u001b[0m \u001b[1m112s\u001b[0m 632ms/step - accuracy: 0.9457 - loss: 0.1666 - val_accuracy: 0.9395 - val_loss: 0.1837 - learning_rate: 1.0000e-05\n",
      "Epoch 38/100\n",
      "\u001b[1m177/177\u001b[0m \u001b[32m━━━━━━━━━━━━━━━━━━━━\u001b[0m\u001b[37m\u001b[0m \u001b[1m112s\u001b[0m 632ms/step - accuracy: 0.9466 - loss: 0.1635 - val_accuracy: 0.9375 - val_loss: 0.1846 - learning_rate: 1.0000e-05\n",
      "Epoch 39/100\n",
      "\u001b[1m177/177\u001b[0m \u001b[32m━━━━━━━━━━━━━━━━━━━━\u001b[0m\u001b[37m\u001b[0m \u001b[1m112s\u001b[0m 630ms/step - accuracy: 0.9466 - loss: 0.1616 - val_accuracy: 0.9393 - val_loss: 0.1829 - learning_rate: 1.0000e-05\n",
      "Epoch 40/100\n",
      "\u001b[1m177/177\u001b[0m \u001b[32m━━━━━━━━━━━━━━━━━━━━\u001b[0m\u001b[37m\u001b[0m \u001b[1m112s\u001b[0m 632ms/step - accuracy: 0.9471 - loss: 0.1634 - val_accuracy: 0.9381 - val_loss: 0.1838 - learning_rate: 1.0000e-05\n",
      "Epoch 41/100\n",
      "\u001b[1m177/177\u001b[0m \u001b[32m━━━━━━━━━━━━━━━━━━━━\u001b[0m\u001b[37m\u001b[0m \u001b[1m111s\u001b[0m 629ms/step - accuracy: 0.9467 - loss: 0.1629 - val_accuracy: 0.9391 - val_loss: 0.1826 - learning_rate: 1.0000e-05\n",
      "Epoch 42/100\n",
      "\u001b[1m177/177\u001b[0m \u001b[32m━━━━━━━━━━━━━━━━━━━━\u001b[0m\u001b[37m\u001b[0m \u001b[1m112s\u001b[0m 633ms/step - accuracy: 0.9458 - loss: 0.1642 - val_accuracy: 0.9393 - val_loss: 0.1821 - learning_rate: 1.0000e-05\n",
      "Epoch 43/100\n",
      "\u001b[1m177/177\u001b[0m \u001b[32m━━━━━━━━━━━━━━━━━━━━\u001b[0m\u001b[37m\u001b[0m \u001b[1m112s\u001b[0m 633ms/step - accuracy: 0.9484 - loss: 0.1601 - val_accuracy: 0.9389 - val_loss: 0.1818 - learning_rate: 1.0000e-05\n",
      "Epoch 44/100\n",
      "\u001b[1m177/177\u001b[0m \u001b[32m━━━━━━━━━━━━━━━━━━━━\u001b[0m\u001b[37m\u001b[0m \u001b[1m0s\u001b[0m 617ms/step - accuracy: 0.9488 - loss: 0.1577"
     ]
    },
    {
     "name": "stderr",
     "output_type": "stream",
     "text": [
      "WARNING:absl:You are saving your model as an HDF5 file via `model.save()` or `keras.saving.save_model(model)`. This file format is considered legacy. We recommend using instead the native Keras format, e.g. `model.save('my_model.keras')` or `keras.saving.save_model(model, 'my_model.keras')`. \n"
     ]
    },
    {
     "name": "stdout",
     "output_type": "stream",
     "text": [
      "\u001b[1m177/177\u001b[0m \u001b[32m━━━━━━━━━━━━━━━━━━━━\u001b[0m\u001b[37m\u001b[0m \u001b[1m112s\u001b[0m 632ms/step - accuracy: 0.9488 - loss: 0.1577 - val_accuracy: 0.9397 - val_loss: 0.1817 - learning_rate: 1.0000e-05\n",
      "Epoch 45/100\n",
      "\u001b[1m177/177\u001b[0m \u001b[32m━━━━━━━━━━━━━━━━━━━━\u001b[0m\u001b[37m\u001b[0m \u001b[1m112s\u001b[0m 632ms/step - accuracy: 0.9491 - loss: 0.1606 - val_accuracy: 0.9379 - val_loss: 0.1810 - learning_rate: 1.0000e-05\n",
      "Epoch 46/100\n",
      "\u001b[1m177/177\u001b[0m \u001b[32m━━━━━━━━━━━━━━━━━━━━\u001b[0m\u001b[37m\u001b[0m \u001b[1m112s\u001b[0m 633ms/step - accuracy: 0.9488 - loss: 0.1565 - val_accuracy: 0.9375 - val_loss: 0.1812 - learning_rate: 1.0000e-05\n",
      "Epoch 47/100\n",
      "\u001b[1m177/177\u001b[0m \u001b[32m━━━━━━━━━━━━━━━━━━━━\u001b[0m\u001b[37m\u001b[0m \u001b[1m112s\u001b[0m 630ms/step - accuracy: 0.9469 - loss: 0.1631 - val_accuracy: 0.9385 - val_loss: 0.1813 - learning_rate: 1.0000e-05\n",
      "Epoch 48/100\n",
      "\u001b[1m177/177\u001b[0m \u001b[32m━━━━━━━━━━━━━━━━━━━━\u001b[0m\u001b[37m\u001b[0m \u001b[1m112s\u001b[0m 634ms/step - accuracy: 0.9475 - loss: 0.1584 - val_accuracy: 0.9391 - val_loss: 0.1809 - learning_rate: 1.0000e-05\n",
      "Epoch 49/100\n",
      "\u001b[1m177/177\u001b[0m \u001b[32m━━━━━━━━━━━━━━━━━━━━\u001b[0m\u001b[37m\u001b[0m \u001b[1m111s\u001b[0m 630ms/step - accuracy: 0.9445 - loss: 0.1608 - val_accuracy: 0.9395 - val_loss: 0.1807 - learning_rate: 1.0000e-05\n",
      "Epoch 50/100\n",
      "\u001b[1m177/177\u001b[0m \u001b[32m━━━━━━━━━━━━━━━━━━━━\u001b[0m\u001b[37m\u001b[0m \u001b[1m112s\u001b[0m 634ms/step - accuracy: 0.9491 - loss: 0.1568 - val_accuracy: 0.9387 - val_loss: 0.1799 - learning_rate: 1.0000e-05\n",
      "Epoch 51/100\n",
      "\u001b[1m177/177\u001b[0m \u001b[32m━━━━━━━━━━━━━━━━━━━━\u001b[0m\u001b[37m\u001b[0m \u001b[1m112s\u001b[0m 632ms/step - accuracy: 0.9480 - loss: 0.1583 - val_accuracy: 0.9381 - val_loss: 0.1794 - learning_rate: 1.0000e-05\n",
      "Epoch 52/100\n",
      "\u001b[1m177/177\u001b[0m \u001b[32m━━━━━━━━━━━━━━━━━━━━\u001b[0m\u001b[37m\u001b[0m \u001b[1m112s\u001b[0m 631ms/step - accuracy: 0.9500 - loss: 0.1542 - val_accuracy: 0.9385 - val_loss: 0.1801 - learning_rate: 1.0000e-05\n",
      "Epoch 53/100\n",
      "\u001b[1m177/177\u001b[0m \u001b[32m━━━━━━━━━━━━━━━━━━━━\u001b[0m\u001b[37m\u001b[0m \u001b[1m112s\u001b[0m 631ms/step - accuracy: 0.9497 - loss: 0.1548 - val_accuracy: 0.9381 - val_loss: 0.1797 - learning_rate: 1.0000e-05\n",
      "Epoch 54/100\n",
      "\u001b[1m177/177\u001b[0m \u001b[32m━━━━━━━━━━━━━━━━━━━━\u001b[0m\u001b[37m\u001b[0m \u001b[1m112s\u001b[0m 632ms/step - accuracy: 0.9509 - loss: 0.1543 - val_accuracy: 0.9393 - val_loss: 0.1791 - learning_rate: 1.0000e-05\n",
      "Epoch 55/100\n",
      "\u001b[1m177/177\u001b[0m \u001b[32m━━━━━━━━━━━━━━━━━━━━\u001b[0m\u001b[37m\u001b[0m \u001b[1m112s\u001b[0m 633ms/step - accuracy: 0.9519 - loss: 0.1518 - val_accuracy: 0.9391 - val_loss: 0.1800 - learning_rate: 1.0000e-05\n",
      "Epoch 56/100\n",
      "\u001b[1m177/177\u001b[0m \u001b[32m━━━━━━━━━━━━━━━━━━━━\u001b[0m\u001b[37m\u001b[0m \u001b[1m112s\u001b[0m 633ms/step - accuracy: 0.9501 - loss: 0.1557 - val_accuracy: 0.9389 - val_loss: 0.1788 - learning_rate: 1.0000e-05\n",
      "Epoch 57/100\n",
      "\u001b[1m177/177\u001b[0m \u001b[32m━━━━━━━━━━━━━━━━━━━━\u001b[0m\u001b[37m\u001b[0m \u001b[1m112s\u001b[0m 631ms/step - accuracy: 0.9524 - loss: 0.1534 - val_accuracy: 0.9387 - val_loss: 0.1794 - learning_rate: 1.0000e-05\n",
      "Epoch 58/100\n",
      "\u001b[1m177/177\u001b[0m \u001b[32m━━━━━━━━━━━━━━━━━━━━\u001b[0m\u001b[37m\u001b[0m \u001b[1m112s\u001b[0m 634ms/step - accuracy: 0.9478 - loss: 0.1562 - val_accuracy: 0.9397 - val_loss: 0.1801 - learning_rate: 1.0000e-05\n",
      "Epoch 59/100\n",
      "\u001b[1m177/177\u001b[0m \u001b[32m━━━━━━━━━━━━━━━━━━━━\u001b[0m\u001b[37m\u001b[0m \u001b[1m112s\u001b[0m 634ms/step - accuracy: 0.9524 - loss: 0.1500 - val_accuracy: 0.9391 - val_loss: 0.1783 - learning_rate: 1.0000e-05\n",
      "Epoch 60/100\n",
      "\u001b[1m177/177\u001b[0m \u001b[32m━━━━━━━━━━━━━━━━━━━━\u001b[0m\u001b[37m\u001b[0m \u001b[1m112s\u001b[0m 632ms/step - accuracy: 0.9508 - loss: 0.1533 - val_accuracy: 0.9397 - val_loss: 0.1783 - learning_rate: 1.0000e-05\n",
      "Epoch 61/100\n",
      "\u001b[1m177/177\u001b[0m \u001b[32m━━━━━━━━━━━━━━━━━━━━\u001b[0m\u001b[37m\u001b[0m \u001b[1m0s\u001b[0m 620ms/step - accuracy: 0.9506 - loss: 0.1495"
     ]
    },
    {
     "name": "stderr",
     "output_type": "stream",
     "text": [
      "WARNING:absl:You are saving your model as an HDF5 file via `model.save()` or `keras.saving.save_model(model)`. This file format is considered legacy. We recommend using instead the native Keras format, e.g. `model.save('my_model.keras')` or `keras.saving.save_model(model, 'my_model.keras')`. \n"
     ]
    },
    {
     "name": "stdout",
     "output_type": "stream",
     "text": [
      "\u001b[1m177/177\u001b[0m \u001b[32m━━━━━━━━━━━━━━━━━━━━\u001b[0m\u001b[37m\u001b[0m \u001b[1m112s\u001b[0m 635ms/step - accuracy: 0.9506 - loss: 0.1496 - val_accuracy: 0.9405 - val_loss: 0.1783 - learning_rate: 1.0000e-05\n",
      "Epoch 62/100\n",
      "\u001b[1m177/177\u001b[0m \u001b[32m━━━━━━━━━━━━━━━━━━━━\u001b[0m\u001b[37m\u001b[0m \u001b[1m112s\u001b[0m 632ms/step - accuracy: 0.9485 - loss: 0.1531 - val_accuracy: 0.9399 - val_loss: 0.1787 - learning_rate: 1.0000e-05\n",
      "Epoch 63/100\n",
      "\u001b[1m177/177\u001b[0m \u001b[32m━━━━━━━━━━━━━━━━━━━━\u001b[0m\u001b[37m\u001b[0m \u001b[1m112s\u001b[0m 633ms/step - accuracy: 0.9505 - loss: 0.1520 - val_accuracy: 0.9393 - val_loss: 0.1782 - learning_rate: 1.0000e-05\n",
      "Epoch 64/100\n",
      "\u001b[1m177/177\u001b[0m \u001b[32m━━━━━━━━━━━━━━━━━━━━\u001b[0m\u001b[37m\u001b[0m \u001b[1m112s\u001b[0m 632ms/step - accuracy: 0.9500 - loss: 0.1512 - val_accuracy: 0.9389 - val_loss: 0.1778 - learning_rate: 1.0000e-05\n",
      "Epoch 65/100\n",
      "\u001b[1m177/177\u001b[0m \u001b[32m━━━━━━━━━━━━━━━━━━━━\u001b[0m\u001b[37m\u001b[0m \u001b[1m112s\u001b[0m 633ms/step - accuracy: 0.9509 - loss: 0.1522 - val_accuracy: 0.9389 - val_loss: 0.1784 - learning_rate: 1.0000e-05\n",
      "Epoch 66/100\n",
      "\u001b[1m177/177\u001b[0m \u001b[32m━━━━━━━━━━━━━━━━━━━━\u001b[0m\u001b[37m\u001b[0m \u001b[1m117s\u001b[0m 661ms/step - accuracy: 0.9513 - loss: 0.1496 - val_accuracy: 0.9393 - val_loss: 0.1780 - learning_rate: 1.0000e-05\n",
      "Epoch 67/100\n",
      "\u001b[1m177/177\u001b[0m \u001b[32m━━━━━━━━━━━━━━━━━━━━\u001b[0m\u001b[37m\u001b[0m \u001b[1m114s\u001b[0m 647ms/step - accuracy: 0.9520 - loss: 0.1451 - val_accuracy: 0.9391 - val_loss: 0.1771 - learning_rate: 1.0000e-05\n",
      "Epoch 68/100\n",
      "\u001b[1m177/177\u001b[0m \u001b[32m━━━━━━━━━━━━━━━━━━━━\u001b[0m\u001b[37m\u001b[0m \u001b[1m112s\u001b[0m 631ms/step - accuracy: 0.9527 - loss: 0.1461 - val_accuracy: 0.9401 - val_loss: 0.1784 - learning_rate: 1.0000e-05\n",
      "Epoch 69/100\n",
      "\u001b[1m177/177\u001b[0m \u001b[32m━━━━━━━━━━━━━━━━━━━━\u001b[0m\u001b[37m\u001b[0m \u001b[1m112s\u001b[0m 633ms/step - accuracy: 0.9531 - loss: 0.1445 - val_accuracy: 0.9389 - val_loss: 0.1776 - learning_rate: 1.0000e-05\n",
      "Epoch 70/100\n",
      "\u001b[1m177/177\u001b[0m \u001b[32m━━━━━━━━━━━━━━━━━━━━\u001b[0m\u001b[37m\u001b[0m \u001b[1m111s\u001b[0m 629ms/step - accuracy: 0.9509 - loss: 0.1482 - val_accuracy: 0.9381 - val_loss: 0.1768 - learning_rate: 1.0000e-05\n",
      "Epoch 71/100\n",
      "\u001b[1m177/177\u001b[0m \u001b[32m━━━━━━━━━━━━━━━━━━━━\u001b[0m\u001b[37m\u001b[0m \u001b[1m113s\u001b[0m 636ms/step - accuracy: 0.9514 - loss: 0.1482 - val_accuracy: 0.9389 - val_loss: 0.1769 - learning_rate: 1.0000e-05\n",
      "Epoch 72/100\n",
      "\u001b[1m177/177\u001b[0m \u001b[32m━━━━━━━━━━━━━━━━━━━━\u001b[0m\u001b[37m\u001b[0m \u001b[1m112s\u001b[0m 632ms/step - accuracy: 0.9549 - loss: 0.1437 - val_accuracy: 0.9387 - val_loss: 0.1765 - learning_rate: 1.0000e-05\n",
      "Epoch 73/100\n",
      "\u001b[1m177/177\u001b[0m \u001b[32m━━━━━━━━━━━━━━━━━━━━\u001b[0m\u001b[37m\u001b[0m \u001b[1m112s\u001b[0m 634ms/step - accuracy: 0.9510 - loss: 0.1455 - val_accuracy: 0.9385 - val_loss: 0.1771 - learning_rate: 1.0000e-05\n",
      "Epoch 74/100\n",
      "\u001b[1m177/177\u001b[0m \u001b[32m━━━━━━━━━━━━━━━━━━━━\u001b[0m\u001b[37m\u001b[0m \u001b[1m112s\u001b[0m 634ms/step - accuracy: 0.9518 - loss: 0.1468 - val_accuracy: 0.9399 - val_loss: 0.1761 - learning_rate: 1.0000e-05\n",
      "Epoch 75/100\n",
      "\u001b[1m177/177\u001b[0m \u001b[32m━━━━━━━━━━━━━━━━━━━━\u001b[0m\u001b[37m\u001b[0m \u001b[1m112s\u001b[0m 634ms/step - accuracy: 0.9517 - loss: 0.1449 - val_accuracy: 0.9387 - val_loss: 0.1774 - learning_rate: 1.0000e-05\n",
      "Epoch 76/100\n",
      "\u001b[1m177/177\u001b[0m \u001b[32m━━━━━━━━━━━━━━━━━━━━\u001b[0m\u001b[37m\u001b[0m \u001b[1m112s\u001b[0m 634ms/step - accuracy: 0.9522 - loss: 0.1462 - val_accuracy: 0.9397 - val_loss: 0.1764 - learning_rate: 1.0000e-05\n",
      "Epoch 77/100\n",
      "\u001b[1m177/177\u001b[0m \u001b[32m━━━━━━━━━━━━━━━━━━━━\u001b[0m\u001b[37m\u001b[0m \u001b[1m113s\u001b[0m 636ms/step - accuracy: 0.9539 - loss: 0.1432 - val_accuracy: 0.9399 - val_loss: 0.1763 - learning_rate: 1.0000e-05\n",
      "Epoch 78/100\n",
      "\u001b[1m177/177\u001b[0m \u001b[32m━━━━━━━━━━━━━━━━━━━━\u001b[0m\u001b[37m\u001b[0m \u001b[1m123s\u001b[0m 695ms/step - accuracy: 0.9535 - loss: 0.1440 - val_accuracy: 0.9397 - val_loss: 0.1756 - learning_rate: 1.0000e-05\n",
      "Epoch 79/100\n",
      "\u001b[1m177/177\u001b[0m \u001b[32m━━━━━━━━━━━━━━━━━━━━\u001b[0m\u001b[37m\u001b[0m \u001b[1m120s\u001b[0m 680ms/step - accuracy: 0.9545 - loss: 0.1409 - val_accuracy: 0.9393 - val_loss: 0.1762 - learning_rate: 1.0000e-05\n",
      "Epoch 80/100\n",
      "\u001b[1m177/177\u001b[0m \u001b[32m━━━━━━━━━━━━━━━━━━━━\u001b[0m\u001b[37m\u001b[0m \u001b[1m121s\u001b[0m 681ms/step - accuracy: 0.9529 - loss: 0.1421 - val_accuracy: 0.9389 - val_loss: 0.1779 - learning_rate: 1.0000e-05\n",
      "Epoch 81/100\n",
      "\u001b[1m177/177\u001b[0m \u001b[32m━━━━━━━━━━━━━━━━━━━━\u001b[0m\u001b[37m\u001b[0m \u001b[1m116s\u001b[0m 656ms/step - accuracy: 0.9532 - loss: 0.1419 - val_accuracy: 0.9395 - val_loss: 0.1763 - learning_rate: 1.0000e-05\n",
      "Epoch 82/100\n",
      "\u001b[1m177/177\u001b[0m \u001b[32m━━━━━━━━━━━━━━━━━━━━\u001b[0m\u001b[37m\u001b[0m \u001b[1m112s\u001b[0m 634ms/step - accuracy: 0.9524 - loss: 0.1439 - val_accuracy: 0.9397 - val_loss: 0.1770 - learning_rate: 1.0000e-05\n"
     ]
    },
    {
     "data": {
      "image/png": "[encoded data removed]",
      "text/plain": [
       "<Figure size 1400x600 with 2 Axes>"
      ]
     },
     "metadata": {},
     "output_type": "display_data"
    },
    {
     "name": "stderr",
     "output_type": "stream",
     "text": [
      "WARNING:absl:Compiled the loaded model, but the compiled metrics have yet to be built. `model.compile_metrics` will be empty until you train or evaluate the model.\n"
     ]
    },
    {
     "name": "stdout",
     "output_type": "stream",
     "text": [
      "\u001b[1m337/337\u001b[0m \u001b[32m━━━━━━━━━━━━━━━━━━━━\u001b[0m\u001b[37m\u001b[0m \u001b[1m21s\u001b[0m 62ms/step\n",
      "\n",
      "\u001b[1mFinal Validation Metrics (on best model):\u001b[0m\n",
      "Accuracy: 0.9369\n",
      "Precision: 0.9485\n",
      "Recall: 0.9239\n",
      "F1-score: 0.9361\n",
      "\n",
      "\u001b[Classification Report:\u001b[0m\n",
      "              precision    recall  f1-score   support\n",
      "\n",
      "   Non-Toxic     0.9258    0.9499    0.9377      5388\n",
      "       Toxic     0.9485    0.9239    0.9361      5387\n",
      "\n",
      "    accuracy                         0.9369     10775\n",
      "   macro avg     0.9372    0.9369    0.9369     10775\n",
      "weighted avg     0.9372    0.9369    0.9369     10775\n",
      "\n"
     ]
    },
    {
     "data": {
      "image/png": "[encoded data removed]",
      "text/plain": [
       "<Figure size 800x600 with 2 Axes>"
      ]
     },
     "metadata": {},
     "output_type": "display_data"
    },
    {
     "name": "stdout",
     "output_type": "stream",
     "text": [
      "\u001b[1m1/1\u001b[0m \u001b[32m━━━━━━━━━━━━━━━━━━━━\u001b[0m\u001b[37m\u001b[0m \u001b[1m0s\u001b[0m 268ms/step\n",
      "\n",
      "Text: You're an idiot!\n",
      "Non-toxic: 3.11% | Toxic: 96.89%\n",
      "\u001b[1m1/1\u001b[0m \u001b[32m━━━━━━━━━━━━━━━━━━━━\u001b[0m\u001b[37m\u001b[0m \u001b[1m0s\u001b[0m 49ms/step\n",
      "\n",
      "Text: Have a nice day!\n",
      "Non-toxic: 81.58% | Toxic: 18.42%\n"
     ]
    }
   ],
   "source": [
    "import pandas as pd\n",
    "import numpy as np\n",
    "import re\n",
    "import matplotlib.pyplot as plt\n",
    "import seaborn as sns\n",
    "import nltk\n",
    "import spacy\n",
    "import tensorflow as tf\n",
    "from nltk.corpus import stopwords\n",
    "from nltk.stem import WordNetLemmatizer\n",
    "from nltk.tokenize import word_tokenize\n",
    "from sklearn.model_selection import train_test_split\n",
    "from sklearn.utils import resample\n",
    "from sklearn.metrics import (\n",
    "    accuracy_score,\n",
    "    precision_score,\n",
    "    recall_score,\n",
    "    f1_score,\n",
    "    classification_report,\n",
    "    confusion_matrix,\n",
    ")\n",
    "from tensorflow.keras.preprocessing.text import Tokenizer\n",
    "from tensorflow.keras.preprocessing.sequence import pad_sequences\n",
    "from tensorflow.keras.models import Sequential\n",
    "from tensorflow.keras.layers import Embedding, LSTM, Dense, Dropout\n",
    "from tensorflow.keras.optimizers import Adam\n",
    "from tensorflow.keras.regularizers import l2\n",
    "from tensorflow.keras.callbacks import EarlyStopping, ReduceLROnPlateau, ModelCheckpoint\n",
    "from tensorflow.keras.utils import to_categorical\n",
    "\n",
    "# NLTK downloads\n",
    "nltk.download(\"stopwords\")\n",
    "nltk.download(\"wordnet\")\n",
    "nltk.download(\"punkt\")\n",
    "\n",
    "# ✅ Move this function up BEFORE it's called\n",
    "def prepare_labels(df):\n",
    "    print(\"\\nAvailable columns in DataFrame:\", df.columns.tolist())\n",
    "    text_col = None\n",
    "    for possible_col in [\"comment_text\", \"text\"]:\n",
    "        if possible_col in df.columns:\n",
    "            text_col = possible_col\n",
    "            break\n",
    "    if text_col is None:\n",
    "        raise ValueError(\n",
    "            f\"No recognized text column found. Available columns: {df.columns.tolist()}\"\n",
    "        )\n",
    "\n",
    "    if \"toxic\" in df.columns:\n",
    "        print(\"Using 'toxic' column for labels\")\n",
    "        df[\"class\"] = np.where(df[\"toxic\"] >= 0.5, 1, 0)\n",
    "    else:\n",
    "        available_cols = [c for c in df.columns if c not in [text_col]]\n",
    "        raise ValueError(\n",
    "            f\"No recognized label columns found. Available columns: {df.columns.tolist()}\\n\"\n",
    "            f\"Potential label columns: {available_cols}\"\n",
    "        )\n",
    "\n",
    "    return df[[text_col, \"class\"]].rename(columns={text_col: \"tweet\"})\n",
    "\n",
    "\n",
    "# ✅ Load and merge datasets\n",
    "print(\"Loading and merging datasets...\")\n",
    "\n",
    "df1 = pd.read_csv(\"./data/labeled_data.csv\")  # Davidson et al.\n",
    "df1 = df1.rename(columns={\"tweet\": \"tweet\", \"class\": \"label\"})\n",
    "df1[\"class\"] = df1[\"label\"].apply(lambda x: 1 if x in [0, 1] else 0)\n",
    "df1 = df1[[\"tweet\", \"class\"]]\n",
    "\n",
    "df2 = pd.read_csv(\"./data/train.csv\")  # Jigsaw dataset\n",
    "df2_prepared = prepare_labels(df2)\n",
    "\n",
    "combined_df = pd.concat([df1, df2_prepared], ignore_index=True)\n",
    "combined_df.drop_duplicates(subset=\"tweet\", inplace=True)\n",
    "\n",
    "print(\"Merged dataset shape:\", combined_df.shape)\n",
    "prepared_df = combined_df  # ✅ This is the version you keep using\n",
    "\n",
    "\n",
    "def prepare_labels(df):\n",
    "    print(\"\\nAvailable columns in DataFrame:\", df.columns.tolist())\n",
    "    text_col = None\n",
    "    for possible_col in [\"comment_text\", \"text\"]:\n",
    "        if possible_col in df.columns:\n",
    "            text_col = possible_col\n",
    "            break\n",
    "    if text_col is None:\n",
    "        raise ValueError(\n",
    "            f\"No recognized text column found. Available columns: {df.columns.tolist()}\"\n",
    "        )\n",
    "\n",
    "    if \"toxic\" in df.columns:\n",
    "        print(\"Using 'toxic' column for labels\")\n",
    "        df[\"class\"] = np.where(df[\"toxic\"] >= 0.5, 1, 0)\n",
    "    else:\n",
    "        available_cols = [c for c in df.columns if c not in [text_col]]\n",
    "        raise ValueError(\n",
    "            f\"No recognized label columns found. Available columns: {df.columns.tolist()}\\n\"\n",
    "            f\"Potential label columns: {available_cols}\"\n",
    "        )\n",
    "\n",
    "    return df[[text_col, \"class\"]].rename(columns={text_col: \"tweet\"})\n",
    "\n",
    "\n",
    "print(\"Preparing data...\")\n",
    "\n",
    "print(\"\\nBalancing classes...\")\n",
    "df_majority = prepared_df[prepared_df[\"class\"] == 0]\n",
    "df_minority = prepared_df[prepared_df[\"class\"] == 1]\n",
    "if len(df_minority) == 0:\n",
    "    raise ValueError(\"No toxic samples found in dataset!\")\n",
    "\n",
    "df_majority = resample(df_majority, n_samples=len(df_minority), random_state=42)\n",
    "balanced_df = pd.concat([df_majority, df_minority]).sample(frac=1, random_state=42)\n",
    "\n",
    "print(\"\\nSetting up text cleaning...\")\n",
    "lemmatizer = WordNetLemmatizer()\n",
    "stop_words = set(stopwords.words(\"english\"))\n",
    "\n",
    "def clean_text(text):\n",
    "    try:\n",
    "        if pd.isna(text):\n",
    "            return \"\"\n",
    "        text = str(text).lower()\n",
    "        text = re.sub(r\"won't\", \"will not\", text)\n",
    "        text = re.sub(r\"can\\'t\", \"can not\", text)\n",
    "        text = re.sub(r\"n\\'t\", \" not\", text)\n",
    "        text = re.sub(r\"\\'re\", \" are\", text)\n",
    "        text = re.sub(r\"\\'s\", \" is\", text)\n",
    "        text = re.sub(r\"\\'d\", \" would\", text)\n",
    "        text = re.sub(r\"\\'ll\", \" will\", text)\n",
    "        text = re.sub(r\"\\'t\", \" not\", text)\n",
    "        text = re.sub(r\"\\'ve\", \" have\", text)\n",
    "        text = re.sub(r\"\\'m\", \" am\", text)\n",
    "        text = re.sub(r\"http\\S+|www\\S+|https\\S+\", \"\", text, flags=re.MULTILINE)\n",
    "        text = re.sub(r\"@\\w+|\\#\", \"\", text)\n",
    "        text = re.sub(r\"[^\\w\\s]\", \"\", text)\n",
    "        tokens = [\n",
    "            lemmatizer.lemmatize(word)\n",
    "            for word in word_tokenize(text)\n",
    "            if word not in stop_words\n",
    "        ]\n",
    "        return \" \".join(tokens)\n",
    "    except Exception as e:\n",
    "        print(f\"Error cleaning text: {text[:50]}... Error: {str(e)}\")\n",
    "        return \"\"\n",
    "\n",
    "print(\"\\nCleaning text with simple apply...\")\n",
    "balanced_df[\"cleaned_text\"] = balanced_df[\"tweet\"].apply(clean_text)\n",
    "\n",
    "tokenizer = Tokenizer(num_words=30000, oov_token=\"<OOV>\")\n",
    "tokenizer.fit_on_texts(balanced_df[\"cleaned_text\"])\n",
    "sequences = tokenizer.texts_to_sequences(balanced_df[\"cleaned_text\"])\n",
    "import pickle\n",
    "with open('original_tokenizer.pickle', 'wb') as handle:\n",
    "    pickle.dump(tokenizer, handle, protocol=pickle.HIGHEST_PROTOCOL)\n",
    "padded_sequences = pad_sequences(sequences, maxlen=128, truncating=\"post\")\n",
    "\n",
    "from sklearn.model_selection import train_test_split\n",
    "from tensorflow.keras.utils import to_categorical\n",
    "\n",
    "# Encode labels\n",
    "y = to_categorical(balanced_df[\"class\"])\n",
    "\n",
    "# Step 1: 70% train, 30% temp (val + test)\n",
    "X_train, X_temp, y_train, y_temp = train_test_split(\n",
    "    padded_sequences,\n",
    "    y,\n",
    "    test_size=0.30,\n",
    "    random_state=42,\n",
    "    stratify=balanced_df[\"class\"]\n",
    ")\n",
    "\n",
    "# Step 2: 15% val, 15% test from the 30%\n",
    "X_val, X_test, y_val, y_test = train_test_split(\n",
    "    X_temp,\n",
    "    y_temp,\n",
    "    test_size=0.50,\n",
    "    random_state=42,\n",
    "    stratify=np.argmax(y_temp, axis=1)  # Stratify on original class labels\n",
    ")\n",
    "\n",
    "\n",
    "\n",
    "\n",
    "print(\"Loading word embeddings...\")\n",
    "try:\n",
    "    nlp = spacy.load(\"en_core_web_md\")\n",
    "except:\n",
    "    import subprocess\n",
    "    subprocess.run([\"python\", \"-m\", \"spacy\", \"download\", \"en_core_web_md\"])\n",
    "    nlp = spacy.load(\"en_core_web_md\")\n",
    "\n",
    "embedding_dim = 300\n",
    "vocab_size = min(30000, len(tokenizer.word_index) + 1)\n",
    "embedding_matrix = np.zeros((vocab_size, embedding_dim))\n",
    "\n",
    "for word, i in tokenizer.word_index.items():\n",
    "    if i < vocab_size:\n",
    "        embedding_matrix[i] = nlp(word).vector\n",
    "\n",
    "model = Sequential(\n",
    "    [\n",
    "        Embedding(\n",
    "            input_dim=30000,\n",
    "            output_dim=300,\n",
    "            weights=[embedding_matrix],\n",
    "            trainable=True,\n",
    "        ),\n",
    "        LSTM(\n",
    "            256, dropout=0.3, recurrent_dropout=0.3, kernel_regularizer=l2(0.01)\n",
    "        ),\n",
    "        Dense(2, activation=\"softmax\"),\n",
    "    ]\n",
    ")\n",
    "\n",
    "model.compile(\n",
    "    optimizer=Adam(learning_rate=0.00005),\n",
    "    loss=\"categorical_crossentropy\",\n",
    "    metrics=[\"accuracy\"],\n",
    ")\n",
    "\n",
    "callbacks = [\n",
    "    EarlyStopping(monitor=\"val_loss\", patience=4, restore_best_weights=True),\n",
    "    ReduceLROnPlateau(\n",
    "        monitor=\"val_loss\", factor=0.2, patience=1, min_lr=0.00001\n",
    "    ),\n",
    "    ModelCheckpoint(\n",
    "        \"7030best_toxic_model.h5\", monitor=\"val_accuracy\", mode=\"max\", save_best_only=True\n",
    "    ),\n",
    "]\n",
    "\n",
    "history = model.fit(\n",
    "    X_train,\n",
    "    y_train,\n",
    "    epochs=100,\n",
    "    batch_size=256,\n",
    "    validation_split=0.1,\n",
    "    callbacks=callbacks,\n",
    "    verbose=1,\n",
    ")\n",
    "\n",
    "# ===== NEW FUNCTION TO PLOT TRAINING HISTORY =====\n",
    "def plot_training_history(history):\n",
    "    acc = history.history[\"accuracy\"]\n",
    "    val_acc = history.history[\"val_accuracy\"]\n",
    "    loss = history.history[\"loss\"]\n",
    "    val_loss = history.history[\"val_loss\"]\n",
    "    epochs_range = range(1, len(acc) + 1)\n",
    "\n",
    "    plt.figure(figsize=(14, 6))\n",
    "\n",
    "    plt.subplot(1, 2, 1)\n",
    "    plt.plot(epochs_range, acc, label=\"Training Accuracy\", marker=\"o\")\n",
    "    plt.plot(epochs_range, val_acc, label=\"Validation Accuracy\", marker=\"o\")\n",
    "    plt.legend(loc=\"lower right\")\n",
    "    plt.title(\"Training and Validation Accuracy\")\n",
    "    plt.xlabel(\"Epochs\")\n",
    "    plt.ylabel(\"Accuracy\")\n",
    "    plt.grid(True)\n",
    "\n",
    "    plt.subplot(1, 2, 2)\n",
    "    plt.plot(epochs_range, loss, label=\"Training Loss\", marker=\"o\")\n",
    "    plt.plot(epochs_range, val_loss, label=\"Validation Loss\", marker=\"o\")\n",
    "    plt.legend(loc=\"upper right\")\n",
    "    plt.title(\"Training and Validation Loss\")\n",
    "    plt.xlabel(\"Epochs\")\n",
    "    plt.ylabel(\"Loss\")\n",
    "    plt.grid(True)\n",
    "\n",
    "    plt.tight_layout()\n",
    "    plt.show()\n",
    "\n",
    "# Call the plotting function\n",
    "plot_training_history(history)\n",
    "\n",
    "# ===== EVALUATION FUNCTION =====\n",
    "def evaluate_model(model, X_test, y_test):\n",
    "    from tensorflow.keras.models import load_model\n",
    "    best_model = load_model(\"7030best_toxic_model.h5\")\n",
    "    y_pred = best_model.predict(X_test)\n",
    "    y_pred_classes = np.argmax(y_pred, axis=1)\n",
    "    y_true = np.argmax(y_test, axis=1)\n",
    "\n",
    "    accuracy = accuracy_score(y_true, y_pred_classes)\n",
    "    precision = precision_score(y_true, y_pred_classes)\n",
    "    recall = recall_score(y_true, y_pred_classes)\n",
    "    f1 = f1_score(y_true, y_pred_classes)\n",
    "\n",
    "    print(\"\\n\\033[1mFinal Validation Metrics (on best model):\\033[0m\")\n",
    "    print(f\"Accuracy: {accuracy:.4f}\")\n",
    "    print(f\"Precision: {precision:.4f}\")\n",
    "    print(f\"Recall: {recall:.4f}\")\n",
    "    print(f\"F1-score: {f1:.4f}\\n\")\n",
    "\n",
    "    print(\"\\033[Classification Report:\\033[0m\")\n",
    "    print(classification_report(\n",
    "        y_true, y_pred_classes,\n",
    "        target_names=[\"Non-Toxic\", \"Toxic\"],\n",
    "        digits=4,\n",
    "    ))\n",
    "\n",
    "    cm = confusion_matrix(y_true, y_pred_classes)\n",
    "    plt.figure(figsize=(8, 6))\n",
    "    sns.heatmap(cm, annot=True, fmt=\"d\", cmap=\"Blues\",\n",
    "                xticklabels=[\"Non-Toxic\", \"Toxic\"],\n",
    "                yticklabels=[\"Non-Toxic\", \"Toxic\"])\n",
    "    plt.title(\"Confusion Matrix\\n(True vs Predicted)\")\n",
    "    plt.ylabel(\"Actual Label\")\n",
    "    plt.xlabel(\"Predicted Label\")\n",
    "    plt.show()\n",
    "\n",
    "# ===== PREDICTION FUNCTION =====\n",
    "def predict_toxicity(text):\n",
    "    cleaned = clean_text(text)\n",
    "    seq = tokenizer.texts_to_sequences([cleaned])\n",
    "    padded = pad_sequences(seq, maxlen=128)\n",
    "    prob = model.predict(padded)[0]\n",
    "    print(f\"\\nText: {text}\")\n",
    "    print(f\"Non-toxic: {prob[0]*100:.2f}% | Toxic: {prob[1]*100:.2f}%\")\n",
    "\n",
    "# ===== EXECUTION =====\n",
    "evaluate_model(model, X_test, y_test)\n",
    "predict_toxicity(\"You're an idiot!\")\n",
    "predict_toxicity(\"Have a nice day!\")"
   ]
  }
 ],
 "metadata": {
  "kernelspec": {
   "display_name": "Python 3",
   "language": "python",
   "name": "python3"
  },
  "language_info": {
   "codemirror_mode": {
    "name": "ipython",
    "version": 3
   },
   "file_extension": ".py",
   "mimetype": "text/x-python",
   "name": "python",
   "nbconvert_exporter": "python",
   "pygments_lexer": "ipython3",
   "version": "3.12.2"
  }
 },
 "nbformat": 4,
 "nbformat_minor": 5
}
