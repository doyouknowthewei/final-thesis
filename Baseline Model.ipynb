{
 "cells": [
  {
   "cell_type": "code",
   "execution_count": 1,
   "id": "2cb767d0",
   "metadata": {},
   "outputs": [
    {
     "name": "stderr",
     "output_type": "stream",
     "text": [
      "[nltk_data] Error loading stopwords: <urlopen error [Errno 11001]\n",
      "[nltk_data]     getaddrinfo failed>\n",
      "[nltk_data] Error loading wordnet: <urlopen error [Errno 11001]\n",
      "[nltk_data]     getaddrinfo failed>\n",
      "[nltk_data] Error loading punkt: <urlopen error [Errno 11001]\n",
      "[nltk_data]     getaddrinfo failed>\n"
     ]
    },
    {
     "name": "stdout",
     "output_type": "stream",
     "text": [
      "Loading and merging datasets...\n",
      "\n",
      "Available columns in DataFrame: ['id', 'comment_text', 'toxic', 'severe_toxic', 'obscene', 'threat', 'insult', 'identity_hate']\n",
      "Using 'toxic' column for labels\n",
      "Merged dataset shape: (184354, 2)\n",
      "Preparing data...\n",
      "\n",
      "Balancing classes...\n",
      "\n",
      "Setting up text cleaning...\n",
      "\n",
      "Cleaning text with simple apply...\n",
      "Loading word embeddings...\n",
      "Epoch 1/100\n",
      "\u001b[1m228/228\u001b[0m \u001b[32m━━━━━━━━━━━━━━━━━━━━\u001b[0m\u001b[37m\u001b[0m \u001b[1m0s\u001b[0m 635ms/step - accuracy: 0.7533 - loss: 4.6816"
     ]
    },
    {
     "name": "stderr",
     "output_type": "stream",
     "text": [
      "WARNING:absl:You are saving your model as an HDF5 file via `model.save()` or `keras.saving.save_model(model)`. This file format is considered legacy. We recommend using instead the native Keras format, e.g. `model.save('my_model.keras')` or `keras.saving.save_model(model, 'my_model.keras')`. \n"
     ]
    },
    {
     "name": "stdout",
     "output_type": "stream",
     "text": [
      "\u001b[1m228/228\u001b[0m \u001b[32m━━━━━━━━━━━━━━━━━━━━\u001b[0m\u001b[37m\u001b[0m \u001b[1m152s\u001b[0m 652ms/step - accuracy: 0.7536 - loss: 4.6792 - val_accuracy: 0.8886 - val_loss: 3.1879 - learning_rate: 5.0000e-05\n",
      "Epoch 2/100\n",
      "\u001b[1m228/228\u001b[0m \u001b[32m━━━━━━━━━━━━━━━━━━━━\u001b[0m\u001b[37m\u001b[0m \u001b[1m0s\u001b[0m 631ms/step - accuracy: 0.8790 - loss: 2.8979"
     ]
    },
    {
     "name": "stderr",
     "output_type": "stream",
     "text": [
      "WARNING:absl:You are saving your model as an HDF5 file via `model.save()` or `keras.saving.save_model(model)`. This file format is considered legacy. We recommend using instead the native Keras format, e.g. `model.save('my_model.keras')` or `keras.saving.save_model(model, 'my_model.keras')`. \n"
     ]
    },
    {
     "name": "stdout",
     "output_type": "stream",
     "text": [
      "\u001b[1m228/228\u001b[0m \u001b[32m━━━━━━━━━━━━━━━━━━━━\u001b[0m\u001b[37m\u001b[0m \u001b[1m147s\u001b[0m 647ms/step - accuracy: 0.8790 - loss: 2.8966 - val_accuracy: 0.9052 - val_loss: 2.0387 - learning_rate: 5.0000e-05\n",
      "Epoch 3/100\n",
      "\u001b[1m228/228\u001b[0m \u001b[32m━━━━━━━━━━━━━━━━━━━━\u001b[0m\u001b[37m\u001b[0m \u001b[1m0s\u001b[0m 642ms/step - accuracy: 0.8939 - loss: 1.8707"
     ]
    },
    {
     "name": "stderr",
     "output_type": "stream",
     "text": [
      "WARNING:absl:You are saving your model as an HDF5 file via `model.save()` or `keras.saving.save_model(model)`. This file format is considered legacy. We recommend using instead the native Keras format, e.g. `model.save('my_model.keras')` or `keras.saving.save_model(model, 'my_model.keras')`. \n"
     ]
    },
    {
     "name": "stdout",
     "output_type": "stream",
     "text": [
      "\u001b[1m228/228\u001b[0m \u001b[32m━━━━━━━━━━━━━━━━━━━━\u001b[0m\u001b[37m\u001b[0m \u001b[1m150s\u001b[0m 658ms/step - accuracy: 0.8939 - loss: 1.8699 - val_accuracy: 0.9109 - val_loss: 1.3222 - learning_rate: 5.0000e-05\n",
      "Epoch 4/100\n",
      "\u001b[1m228/228\u001b[0m \u001b[32m━━━━━━━━━━━━━━━━━━━━\u001b[0m\u001b[37m\u001b[0m \u001b[1m0s\u001b[0m 627ms/step - accuracy: 0.9008 - loss: 1.2274"
     ]
    },
    {
     "name": "stderr",
     "output_type": "stream",
     "text": [
      "WARNING:absl:You are saving your model as an HDF5 file via `model.save()` or `keras.saving.save_model(model)`. This file format is considered legacy. We recommend using instead the native Keras format, e.g. `model.save('my_model.keras')` or `keras.saving.save_model(model, 'my_model.keras')`. \n"
     ]
    },
    {
     "name": "stdout",
     "output_type": "stream",
     "text": [
      "\u001b[1m228/228\u001b[0m \u001b[32m━━━━━━━━━━━━━━━━━━━━\u001b[0m\u001b[37m\u001b[0m \u001b[1m147s\u001b[0m 643ms/step - accuracy: 0.9008 - loss: 1.2270 - val_accuracy: 0.9135 - val_loss: 0.8778 - learning_rate: 5.0000e-05\n",
      "Epoch 5/100\n",
      "\u001b[1m228/228\u001b[0m \u001b[32m━━━━━━━━━━━━━━━━━━━━\u001b[0m\u001b[37m\u001b[0m \u001b[1m0s\u001b[0m 633ms/step - accuracy: 0.9059 - loss: 0.8310"
     ]
    },
    {
     "name": "stderr",
     "output_type": "stream",
     "text": [
      "WARNING:absl:You are saving your model as an HDF5 file via `model.save()` or `keras.saving.save_model(model)`. This file format is considered legacy. We recommend using instead the native Keras format, e.g. `model.save('my_model.keras')` or `keras.saving.save_model(model, 'my_model.keras')`. \n"
     ]
    },
    {
     "name": "stdout",
     "output_type": "stream",
     "text": [
      "\u001b[1m228/228\u001b[0m \u001b[32m━━━━━━━━━━━━━━━━━━━━\u001b[0m\u001b[37m\u001b[0m \u001b[1m148s\u001b[0m 648ms/step - accuracy: 0.9060 - loss: 0.8307 - val_accuracy: 0.9157 - val_loss: 0.6095 - learning_rate: 5.0000e-05\n",
      "Epoch 6/100\n",
      "\u001b[1m228/228\u001b[0m \u001b[32m━━━━━━━━━━━━━━━━━━━━\u001b[0m\u001b[37m\u001b[0m \u001b[1m0s\u001b[0m 628ms/step - accuracy: 0.9084 - loss: 0.5944"
     ]
    },
    {
     "name": "stderr",
     "output_type": "stream",
     "text": [
      "WARNING:absl:You are saving your model as an HDF5 file via `model.save()` or `keras.saving.save_model(model)`. This file format is considered legacy. We recommend using instead the native Keras format, e.g. `model.save('my_model.keras')` or `keras.saving.save_model(model, 'my_model.keras')`. \n"
     ]
    },
    {
     "name": "stdout",
     "output_type": "stream",
     "text": [
      "\u001b[1m228/228\u001b[0m \u001b[32m━━━━━━━━━━━━━━━━━━━━\u001b[0m\u001b[37m\u001b[0m \u001b[1m147s\u001b[0m 644ms/step - accuracy: 0.9084 - loss: 0.5942 - val_accuracy: 0.9206 - val_loss: 0.4485 - learning_rate: 5.0000e-05\n",
      "Epoch 7/100\n",
      "\u001b[1m228/228\u001b[0m \u001b[32m━━━━━━━━━━━━━━━━━━━━\u001b[0m\u001b[37m\u001b[0m \u001b[1m0s\u001b[0m 628ms/step - accuracy: 0.9138 - loss: 0.4485"
     ]
    },
    {
     "name": "stderr",
     "output_type": "stream",
     "text": [
      "WARNING:absl:You are saving your model as an HDF5 file via `model.save()` or `keras.saving.save_model(model)`. This file format is considered legacy. We recommend using instead the native Keras format, e.g. `model.save('my_model.keras')` or `keras.saving.save_model(model, 'my_model.keras')`. \n"
     ]
    },
    {
     "name": "stdout",
     "output_type": "stream",
     "text": [
      "\u001b[1m228/228\u001b[0m \u001b[32m━━━━━━━━━━━━━━━━━━━━\u001b[0m\u001b[37m\u001b[0m \u001b[1m147s\u001b[0m 644ms/step - accuracy: 0.9138 - loss: 0.4484 - val_accuracy: 0.9225 - val_loss: 0.3557 - learning_rate: 5.0000e-05\n",
      "Epoch 8/100\n",
      "\u001b[1m228/228\u001b[0m \u001b[32m━━━━━━━━━━━━━━━━━━━━\u001b[0m\u001b[37m\u001b[0m \u001b[1m0s\u001b[0m 639ms/step - accuracy: 0.9151 - loss: 0.3651"
     ]
    },
    {
     "name": "stderr",
     "output_type": "stream",
     "text": [
      "WARNING:absl:You are saving your model as an HDF5 file via `model.save()` or `keras.saving.save_model(model)`. This file format is considered legacy. We recommend using instead the native Keras format, e.g. `model.save('my_model.keras')` or `keras.saving.save_model(model, 'my_model.keras')`. \n"
     ]
    },
    {
     "name": "stdout",
     "output_type": "stream",
     "text": [
      "\u001b[1m228/228\u001b[0m \u001b[32m━━━━━━━━━━━━━━━━━━━━\u001b[0m\u001b[37m\u001b[0m \u001b[1m149s\u001b[0m 655ms/step - accuracy: 0.9151 - loss: 0.3650 - val_accuracy: 0.9253 - val_loss: 0.3005 - learning_rate: 5.0000e-05\n",
      "Epoch 9/100\n",
      "\u001b[1m228/228\u001b[0m \u001b[32m━━━━━━━━━━━━━━━━━━━━\u001b[0m\u001b[37m\u001b[0m \u001b[1m0s\u001b[0m 636ms/step - accuracy: 0.9199 - loss: 0.3115"
     ]
    },
    {
     "name": "stderr",
     "output_type": "stream",
     "text": [
      "WARNING:absl:You are saving your model as an HDF5 file via `model.save()` or `keras.saving.save_model(model)`. This file format is considered legacy. We recommend using instead the native Keras format, e.g. `model.save('my_model.keras')` or `keras.saving.save_model(model, 'my_model.keras')`. \n"
     ]
    },
    {
     "name": "stdout",
     "output_type": "stream",
     "text": [
      "\u001b[1m228/228\u001b[0m \u001b[32m━━━━━━━━━━━━━━━━━━━━\u001b[0m\u001b[37m\u001b[0m \u001b[1m149s\u001b[0m 651ms/step - accuracy: 0.9199 - loss: 0.3115 - val_accuracy: 0.9284 - val_loss: 0.2651 - learning_rate: 5.0000e-05\n",
      "Epoch 10/100\n",
      "\u001b[1m228/228\u001b[0m \u001b[32m━━━━━━━━━━━━━━━━━━━━\u001b[0m\u001b[37m\u001b[0m \u001b[1m0s\u001b[0m 628ms/step - accuracy: 0.9241 - loss: 0.2755"
     ]
    },
    {
     "name": "stderr",
     "output_type": "stream",
     "text": [
      "WARNING:absl:You are saving your model as an HDF5 file via `model.save()` or `keras.saving.save_model(model)`. This file format is considered legacy. We recommend using instead the native Keras format, e.g. `model.save('my_model.keras')` or `keras.saving.save_model(model, 'my_model.keras')`. \n"
     ]
    },
    {
     "name": "stdout",
     "output_type": "stream",
     "text": [
      "\u001b[1m228/228\u001b[0m \u001b[32m━━━━━━━━━━━━━━━━━━━━\u001b[0m\u001b[37m\u001b[0m \u001b[1m147s\u001b[0m 644ms/step - accuracy: 0.9241 - loss: 0.2755 - val_accuracy: 0.9318 - val_loss: 0.2400 - learning_rate: 5.0000e-05\n",
      "Epoch 11/100\n",
      "\u001b[1m228/228\u001b[0m \u001b[32m━━━━━━━━━━━━━━━━━━━━\u001b[0m\u001b[37m\u001b[0m \u001b[1m0s\u001b[0m 638ms/step - accuracy: 0.9260 - loss: 0.2571"
     ]
    },
    {
     "name": "stderr",
     "output_type": "stream",
     "text": [
      "WARNING:absl:You are saving your model as an HDF5 file via `model.save()` or `keras.saving.save_model(model)`. This file format is considered legacy. We recommend using instead the native Keras format, e.g. `model.save('my_model.keras')` or `keras.saving.save_model(model, 'my_model.keras')`. \n"
     ]
    },
    {
     "name": "stdout",
     "output_type": "stream",
     "text": [
      "\u001b[1m228/228\u001b[0m \u001b[32m━━━━━━━━━━━━━━━━━━━━\u001b[0m\u001b[37m\u001b[0m \u001b[1m149s\u001b[0m 654ms/step - accuracy: 0.9260 - loss: 0.2571 - val_accuracy: 0.9333 - val_loss: 0.2274 - learning_rate: 5.0000e-05\n",
      "Epoch 12/100\n",
      "\u001b[1m228/228\u001b[0m \u001b[32m━━━━━━━━━━━━━━━━━━━━\u001b[0m\u001b[37m\u001b[0m \u001b[1m147s\u001b[0m 643ms/step - accuracy: 0.9285 - loss: 0.2415 - val_accuracy: 0.9327 - val_loss: 0.2218 - learning_rate: 5.0000e-05\n",
      "Epoch 13/100\n",
      "\u001b[1m228/228\u001b[0m \u001b[32m━━━━━━━━━━━━━━━━━━━━\u001b[0m\u001b[37m\u001b[0m \u001b[1m0s\u001b[0m 628ms/step - accuracy: 0.9314 - loss: 0.2304"
     ]
    },
    {
     "name": "stderr",
     "output_type": "stream",
     "text": [
      "WARNING:absl:You are saving your model as an HDF5 file via `model.save()` or `keras.saving.save_model(model)`. This file format is considered legacy. We recommend using instead the native Keras format, e.g. `model.save('my_model.keras')` or `keras.saving.save_model(model, 'my_model.keras')`. \n"
     ]
    },
    {
     "name": "stdout",
     "output_type": "stream",
     "text": [
      "\u001b[1m228/228\u001b[0m \u001b[32m━━━━━━━━━━━━━━━━━━━━\u001b[0m\u001b[37m\u001b[0m \u001b[1m147s\u001b[0m 643ms/step - accuracy: 0.9314 - loss: 0.2304 - val_accuracy: 0.9364 - val_loss: 0.2065 - learning_rate: 5.0000e-05\n",
      "Epoch 14/100\n",
      "\u001b[1m228/228\u001b[0m \u001b[32m━━━━━━━━━━━━━━━━━━━━\u001b[0m\u001b[37m\u001b[0m \u001b[1m0s\u001b[0m 630ms/step - accuracy: 0.9293 - loss: 0.2198"
     ]
    },
    {
     "name": "stderr",
     "output_type": "stream",
     "text": [
      "WARNING:absl:You are saving your model as an HDF5 file via `model.save()` or `keras.saving.save_model(model)`. This file format is considered legacy. We recommend using instead the native Keras format, e.g. `model.save('my_model.keras')` or `keras.saving.save_model(model, 'my_model.keras')`. \n"
     ]
    },
    {
     "name": "stdout",
     "output_type": "stream",
     "text": [
      "\u001b[1m228/228\u001b[0m \u001b[32m━━━━━━━━━━━━━━━━━━━━\u001b[0m\u001b[37m\u001b[0m \u001b[1m147s\u001b[0m 646ms/step - accuracy: 0.9294 - loss: 0.2198 - val_accuracy: 0.9374 - val_loss: 0.1993 - learning_rate: 5.0000e-05\n",
      "Epoch 15/100\n",
      "\u001b[1m228/228\u001b[0m \u001b[32m━━━━━━━━━━━━━━━━━━━━\u001b[0m\u001b[37m\u001b[0m \u001b[1m150s\u001b[0m 656ms/step - accuracy: 0.9335 - loss: 0.2078 - val_accuracy: 0.9369 - val_loss: 0.1960 - learning_rate: 5.0000e-05\n",
      "Epoch 16/100\n",
      "\u001b[1m228/228\u001b[0m \u001b[32m━━━━━━━━━━━━━━━━━━━━\u001b[0m\u001b[37m\u001b[0m \u001b[1m148s\u001b[0m 648ms/step - accuracy: 0.9361 - loss: 0.2021 - val_accuracy: 0.9372 - val_loss: 0.1882 - learning_rate: 5.0000e-05\n",
      "Epoch 17/100\n",
      "\u001b[1m228/228\u001b[0m \u001b[32m━━━━━━━━━━━━━━━━━━━━\u001b[0m\u001b[37m\u001b[0m \u001b[1m0s\u001b[0m 635ms/step - accuracy: 0.9348 - loss: 0.1971"
     ]
    },
    {
     "name": "stderr",
     "output_type": "stream",
     "text": [
      "WARNING:absl:You are saving your model as an HDF5 file via `model.save()` or `keras.saving.save_model(model)`. This file format is considered legacy. We recommend using instead the native Keras format, e.g. `model.save('my_model.keras')` or `keras.saving.save_model(model, 'my_model.keras')`. \n"
     ]
    },
    {
     "name": "stdout",
     "output_type": "stream",
     "text": [
      "\u001b[1m228/228\u001b[0m \u001b[32m━━━━━━━━━━━━━━━━━━━━\u001b[0m\u001b[37m\u001b[0m \u001b[1m148s\u001b[0m 651ms/step - accuracy: 0.9348 - loss: 0.1971 - val_accuracy: 0.9384 - val_loss: 0.1889 - learning_rate: 5.0000e-05\n",
      "Epoch 18/100\n",
      "\u001b[1m228/228\u001b[0m \u001b[32m━━━━━━━━━━━━━━━━━━━━\u001b[0m\u001b[37m\u001b[0m \u001b[1m0s\u001b[0m 630ms/step - accuracy: 0.9396 - loss: 0.1906"
     ]
    },
    {
     "name": "stderr",
     "output_type": "stream",
     "text": [
      "WARNING:absl:You are saving your model as an HDF5 file via `model.save()` or `keras.saving.save_model(model)`. This file format is considered legacy. We recommend using instead the native Keras format, e.g. `model.save('my_model.keras')` or `keras.saving.save_model(model, 'my_model.keras')`. \n"
     ]
    },
    {
     "name": "stdout",
     "output_type": "stream",
     "text": [
      "\u001b[1m228/228\u001b[0m \u001b[32m━━━━━━━━━━━━━━━━━━━━\u001b[0m\u001b[37m\u001b[0m \u001b[1m147s\u001b[0m 646ms/step - accuracy: 0.9396 - loss: 0.1906 - val_accuracy: 0.9391 - val_loss: 0.1858 - learning_rate: 1.0000e-05\n",
      "Epoch 19/100\n",
      "\u001b[1m228/228\u001b[0m \u001b[32m━━━━━━━━━━━━━━━━━━━━\u001b[0m\u001b[37m\u001b[0m \u001b[1m149s\u001b[0m 654ms/step - accuracy: 0.9376 - loss: 0.1887 - val_accuracy: 0.9387 - val_loss: 0.1834 - learning_rate: 1.0000e-05\n",
      "Epoch 20/100\n",
      "\u001b[1m228/228\u001b[0m \u001b[32m━━━━━━━━━━━━━━━━━━━━\u001b[0m\u001b[37m\u001b[0m \u001b[1m0s\u001b[0m 640ms/step - accuracy: 0.9405 - loss: 0.1863"
     ]
    },
    {
     "name": "stderr",
     "output_type": "stream",
     "text": [
      "WARNING:absl:You are saving your model as an HDF5 file via `model.save()` or `keras.saving.save_model(model)`. This file format is considered legacy. We recommend using instead the native Keras format, e.g. `model.save('my_model.keras')` or `keras.saving.save_model(model, 'my_model.keras')`. \n"
     ]
    },
    {
     "name": "stdout",
     "output_type": "stream",
     "text": [
      "\u001b[1m228/228\u001b[0m \u001b[32m━━━━━━━━━━━━━━━━━━━━\u001b[0m\u001b[37m\u001b[0m \u001b[1m150s\u001b[0m 656ms/step - accuracy: 0.9405 - loss: 0.1863 - val_accuracy: 0.9394 - val_loss: 0.1833 - learning_rate: 1.0000e-05\n",
      "Epoch 21/100\n",
      "\u001b[1m228/228\u001b[0m \u001b[32m━━━━━━━━━━━━━━━━━━━━\u001b[0m\u001b[37m\u001b[0m \u001b[1m148s\u001b[0m 649ms/step - accuracy: 0.9389 - loss: 0.1880 - val_accuracy: 0.9384 - val_loss: 0.1832 - learning_rate: 1.0000e-05\n",
      "Epoch 22/100\n",
      "\u001b[1m228/228\u001b[0m \u001b[32m━━━━━━━━━━━━━━━━━━━━\u001b[0m\u001b[37m\u001b[0m \u001b[1m148s\u001b[0m 647ms/step - accuracy: 0.9396 - loss: 0.1834 - val_accuracy: 0.9392 - val_loss: 0.1813 - learning_rate: 1.0000e-05\n",
      "Epoch 23/100\n",
      "\u001b[1m228/228\u001b[0m \u001b[32m━━━━━━━━━━━━━━━━━━━━\u001b[0m\u001b[37m\u001b[0m \u001b[1m148s\u001b[0m 647ms/step - accuracy: 0.9402 - loss: 0.1857 - val_accuracy: 0.9384 - val_loss: 0.1816 - learning_rate: 1.0000e-05\n",
      "Epoch 24/100\n",
      "\u001b[1m228/228\u001b[0m \u001b[32m━━━━━━━━━━━━━━━━━━━━\u001b[0m\u001b[37m\u001b[0m \u001b[1m0s\u001b[0m 630ms/step - accuracy: 0.9404 - loss: 0.1822"
     ]
    },
    {
     "name": "stderr",
     "output_type": "stream",
     "text": [
      "WARNING:absl:You are saving your model as an HDF5 file via `model.save()` or `keras.saving.save_model(model)`. This file format is considered legacy. We recommend using instead the native Keras format, e.g. `model.save('my_model.keras')` or `keras.saving.save_model(model, 'my_model.keras')`. \n"
     ]
    },
    {
     "name": "stdout",
     "output_type": "stream",
     "text": [
      "\u001b[1m228/228\u001b[0m \u001b[32m━━━━━━━━━━━━━━━━━━━━\u001b[0m\u001b[37m\u001b[0m \u001b[1m147s\u001b[0m 645ms/step - accuracy: 0.9404 - loss: 0.1822 - val_accuracy: 0.9395 - val_loss: 0.1806 - learning_rate: 1.0000e-05\n",
      "Epoch 25/100\n",
      "\u001b[1m228/228\u001b[0m \u001b[32m━━━━━━━━━━━━━━━━━━━━\u001b[0m\u001b[37m\u001b[0m \u001b[1m148s\u001b[0m 647ms/step - accuracy: 0.9408 - loss: 0.1824 - val_accuracy: 0.9384 - val_loss: 0.1805 - learning_rate: 1.0000e-05\n",
      "Epoch 26/100\n",
      "\u001b[1m228/228\u001b[0m \u001b[32m━━━━━━━━━━━━━━━━━━━━\u001b[0m\u001b[37m\u001b[0m \u001b[1m146s\u001b[0m 642ms/step - accuracy: 0.9407 - loss: 0.1813 - val_accuracy: 0.9389 - val_loss: 0.1799 - learning_rate: 1.0000e-05\n",
      "Epoch 27/100\n",
      "\u001b[1m228/228\u001b[0m \u001b[32m━━━━━━━━━━━━━━━━━━━━\u001b[0m\u001b[37m\u001b[0m \u001b[1m149s\u001b[0m 655ms/step - accuracy: 0.9427 - loss: 0.1775 - val_accuracy: 0.9391 - val_loss: 0.1785 - learning_rate: 1.0000e-05\n",
      "Epoch 28/100\n",
      "\u001b[1m228/228\u001b[0m \u001b[32m━━━━━━━━━━━━━━━━━━━━\u001b[0m\u001b[37m\u001b[0m \u001b[1m146s\u001b[0m 642ms/step - accuracy: 0.9410 - loss: 0.1787 - val_accuracy: 0.9392 - val_loss: 0.1791 - learning_rate: 1.0000e-05\n",
      "Epoch 29/100\n",
      "\u001b[1m228/228\u001b[0m \u001b[32m━━━━━━━━━━━━━━━━━━━━\u001b[0m\u001b[37m\u001b[0m \u001b[1m148s\u001b[0m 650ms/step - accuracy: 0.9403 - loss: 0.1804 - val_accuracy: 0.9387 - val_loss: 0.1788 - learning_rate: 1.0000e-05\n",
      "Epoch 30/100\n",
      "\u001b[1m228/228\u001b[0m \u001b[32m━━━━━━━━━━━━━━━━━━━━\u001b[0m\u001b[37m\u001b[0m \u001b[1m147s\u001b[0m 645ms/step - accuracy: 0.9407 - loss: 0.1770 - val_accuracy: 0.9386 - val_loss: 0.1786 - learning_rate: 1.0000e-05\n",
      "Epoch 31/100\n",
      "\u001b[1m228/228\u001b[0m \u001b[32m━━━━━━━━━━━━━━━━━━━━\u001b[0m\u001b[37m\u001b[0m \u001b[1m0s\u001b[0m 631ms/step - accuracy: 0.9423 - loss: 0.1766"
     ]
    },
    {
     "name": "stderr",
     "output_type": "stream",
     "text": [
      "WARNING:absl:You are saving your model as an HDF5 file via `model.save()` or `keras.saving.save_model(model)`. This file format is considered legacy. We recommend using instead the native Keras format, e.g. `model.save('my_model.keras')` or `keras.saving.save_model(model, 'my_model.keras')`. \n"
     ]
    },
    {
     "name": "stdout",
     "output_type": "stream",
     "text": [
      "\u001b[1m228/228\u001b[0m \u001b[32m━━━━━━━━━━━━━━━━━━━━\u001b[0m\u001b[37m\u001b[0m \u001b[1m148s\u001b[0m 647ms/step - accuracy: 0.9423 - loss: 0.1766 - val_accuracy: 0.9397 - val_loss: 0.1778 - learning_rate: 1.0000e-05\n",
      "Epoch 32/100\n",
      "\u001b[1m228/228\u001b[0m \u001b[32m━━━━━━━━━━━━━━━━━━━━\u001b[0m\u001b[37m\u001b[0m \u001b[1m0s\u001b[0m 629ms/step - accuracy: 0.9414 - loss: 0.1763"
     ]
    },
    {
     "name": "stderr",
     "output_type": "stream",
     "text": [
      "WARNING:absl:You are saving your model as an HDF5 file via `model.save()` or `keras.saving.save_model(model)`. This file format is considered legacy. We recommend using instead the native Keras format, e.g. `model.save('my_model.keras')` or `keras.saving.save_model(model, 'my_model.keras')`. \n"
     ]
    },
    {
     "name": "stdout",
     "output_type": "stream",
     "text": [
      "\u001b[1m228/228\u001b[0m \u001b[32m━━━━━━━━━━━━━━━━━━━━\u001b[0m\u001b[37m\u001b[0m \u001b[1m147s\u001b[0m 645ms/step - accuracy: 0.9414 - loss: 0.1763 - val_accuracy: 0.9403 - val_loss: 0.1757 - learning_rate: 1.0000e-05\n",
      "Epoch 33/100\n",
      "\u001b[1m228/228\u001b[0m \u001b[32m━━━━━━━━━━━━━━━━━━━━\u001b[0m\u001b[37m\u001b[0m \u001b[1m147s\u001b[0m 644ms/step - accuracy: 0.9424 - loss: 0.1788 - val_accuracy: 0.9398 - val_loss: 0.1760 - learning_rate: 1.0000e-05\n",
      "Epoch 34/100\n",
      "\u001b[1m228/228\u001b[0m \u001b[32m━━━━━━━━━━━━━━━━━━━━\u001b[0m\u001b[37m\u001b[0m \u001b[1m146s\u001b[0m 641ms/step - accuracy: 0.9437 - loss: 0.1729 - val_accuracy: 0.9387 - val_loss: 0.1751 - learning_rate: 1.0000e-05\n",
      "Epoch 35/100\n",
      "\u001b[1m228/228\u001b[0m \u001b[32m━━━━━━━━━━━━━━━━━━━━\u001b[0m\u001b[37m\u001b[0m \u001b[1m147s\u001b[0m 644ms/step - accuracy: 0.9412 - loss: 0.1749 - val_accuracy: 0.9395 - val_loss: 0.1744 - learning_rate: 1.0000e-05\n",
      "Epoch 36/100\n",
      "\u001b[1m228/228\u001b[0m \u001b[32m━━━━━━━━━━━━━━━━━━━━\u001b[0m\u001b[37m\u001b[0m \u001b[1m147s\u001b[0m 644ms/step - accuracy: 0.9422 - loss: 0.1737 - val_accuracy: 0.9400 - val_loss: 0.1750 - learning_rate: 1.0000e-05\n",
      "Epoch 37/100\n",
      "\u001b[1m228/228\u001b[0m \u001b[32m━━━━━━━━━━━━━━━━━━━━\u001b[0m\u001b[37m\u001b[0m \u001b[1m147s\u001b[0m 644ms/step - accuracy: 0.9437 - loss: 0.1730 - val_accuracy: 0.9401 - val_loss: 0.1749 - learning_rate: 1.0000e-05\n",
      "Epoch 38/100\n",
      "\u001b[1m228/228\u001b[0m \u001b[32m━━━━━━━━━━━━━━━━━━━━\u001b[0m\u001b[37m\u001b[0m \u001b[1m147s\u001b[0m 646ms/step - accuracy: 0.9421 - loss: 0.1743 - val_accuracy: 0.9397 - val_loss: 0.1732 - learning_rate: 1.0000e-05\n",
      "Epoch 39/100\n",
      "\u001b[1m228/228\u001b[0m \u001b[32m━━━━━━━━━━━━━━━━━━━━\u001b[0m\u001b[37m\u001b[0m \u001b[1m147s\u001b[0m 644ms/step - accuracy: 0.9437 - loss: 0.1699 - val_accuracy: 0.9400 - val_loss: 0.1728 - learning_rate: 1.0000e-05\n",
      "Epoch 40/100\n",
      "\u001b[1m228/228\u001b[0m \u001b[32m━━━━━━━━━━━━━━━━━━━━\u001b[0m\u001b[37m\u001b[0m \u001b[1m147s\u001b[0m 647ms/step - accuracy: 0.9434 - loss: 0.1715 - val_accuracy: 0.9400 - val_loss: 0.1733 - learning_rate: 1.0000e-05\n",
      "Epoch 41/100\n",
      "\u001b[1m228/228\u001b[0m \u001b[32m━━━━━━━━━━━━━━━━━━━━\u001b[0m\u001b[37m\u001b[0m \u001b[1m148s\u001b[0m 647ms/step - accuracy: 0.9429 - loss: 0.1704 - val_accuracy: 0.9400 - val_loss: 0.1726 - learning_rate: 1.0000e-05\n",
      "Epoch 42/100\n",
      "\u001b[1m228/228\u001b[0m \u001b[32m━━━━━━━━━━━━━━━━━━━━\u001b[0m\u001b[37m\u001b[0m \u001b[1m0s\u001b[0m 633ms/step - accuracy: 0.9425 - loss: 0.1694"
     ]
    },
    {
     "name": "stderr",
     "output_type": "stream",
     "text": [
      "WARNING:absl:You are saving your model as an HDF5 file via `model.save()` or `keras.saving.save_model(model)`. This file format is considered legacy. We recommend using instead the native Keras format, e.g. `model.save('my_model.keras')` or `keras.saving.save_model(model, 'my_model.keras')`. \n"
     ]
    },
    {
     "name": "stdout",
     "output_type": "stream",
     "text": [
      "\u001b[1m228/228\u001b[0m \u001b[32m━━━━━━━━━━━━━━━━━━━━\u001b[0m\u001b[37m\u001b[0m \u001b[1m148s\u001b[0m 648ms/step - accuracy: 0.9425 - loss: 0.1694 - val_accuracy: 0.9404 - val_loss: 0.1718 - learning_rate: 1.0000e-05\n",
      "Epoch 43/100\n",
      "\u001b[1m228/228\u001b[0m \u001b[32m━━━━━━━━━━━━━━━━━━━━\u001b[0m\u001b[37m\u001b[0m \u001b[1m148s\u001b[0m 651ms/step - accuracy: 0.9449 - loss: 0.1677 - val_accuracy: 0.9401 - val_loss: 0.1714 - learning_rate: 1.0000e-05\n",
      "Epoch 44/100\n",
      "\u001b[1m228/228\u001b[0m \u001b[32m━━━━━━━━━━━━━━━━━━━━\u001b[0m\u001b[37m\u001b[0m \u001b[1m148s\u001b[0m 648ms/step - accuracy: 0.9435 - loss: 0.1686 - val_accuracy: 0.9404 - val_loss: 0.1713 - learning_rate: 1.0000e-05\n",
      "Epoch 45/100\n",
      "\u001b[1m228/228\u001b[0m \u001b[32m━━━━━━━━━━━━━━━━━━━━\u001b[0m\u001b[37m\u001b[0m \u001b[1m148s\u001b[0m 649ms/step - accuracy: 0.9440 - loss: 0.1686 - val_accuracy: 0.9401 - val_loss: 0.1705 - learning_rate: 1.0000e-05\n",
      "Epoch 46/100\n",
      "\u001b[1m228/228\u001b[0m \u001b[32m━━━━━━━━━━━━━━━━━━━━\u001b[0m\u001b[37m\u001b[0m \u001b[1m0s\u001b[0m 632ms/step - accuracy: 0.9454 - loss: 0.1651"
     ]
    },
    {
     "name": "stderr",
     "output_type": "stream",
     "text": [
      "WARNING:absl:You are saving your model as an HDF5 file via `model.save()` or `keras.saving.save_model(model)`. This file format is considered legacy. We recommend using instead the native Keras format, e.g. `model.save('my_model.keras')` or `keras.saving.save_model(model, 'my_model.keras')`. \n"
     ]
    },
    {
     "name": "stdout",
     "output_type": "stream",
     "text": [
      "\u001b[1m228/228\u001b[0m \u001b[32m━━━━━━━━━━━━━━━━━━━━\u001b[0m\u001b[37m\u001b[0m \u001b[1m148s\u001b[0m 648ms/step - accuracy: 0.9454 - loss: 0.1651 - val_accuracy: 0.9414 - val_loss: 0.1704 - learning_rate: 1.0000e-05\n",
      "Epoch 47/100\n",
      "\u001b[1m228/228\u001b[0m \u001b[32m━━━━━━━━━━━━━━━━━━━━\u001b[0m\u001b[37m\u001b[0m \u001b[1m148s\u001b[0m 648ms/step - accuracy: 0.9441 - loss: 0.1661 - val_accuracy: 0.9401 - val_loss: 0.1706 - learning_rate: 1.0000e-05\n",
      "Epoch 48/100\n",
      "\u001b[1m228/228\u001b[0m \u001b[32m━━━━━━━━━━━━━━━━━━━━\u001b[0m\u001b[37m\u001b[0m \u001b[1m147s\u001b[0m 646ms/step - accuracy: 0.9463 - loss: 0.1631 - val_accuracy: 0.9404 - val_loss: 0.1700 - learning_rate: 1.0000e-05\n",
      "Epoch 49/100\n",
      "\u001b[1m228/228\u001b[0m \u001b[32m━━━━━━━━━━━━━━━━━━━━\u001b[0m\u001b[37m\u001b[0m \u001b[1m147s\u001b[0m 643ms/step - accuracy: 0.9467 - loss: 0.1604 - val_accuracy: 0.9408 - val_loss: 0.1697 - learning_rate: 1.0000e-05\n",
      "Epoch 50/100\n",
      "\u001b[1m228/228\u001b[0m \u001b[32m━━━━━━━━━━━━━━━━━━━━\u001b[0m\u001b[37m\u001b[0m \u001b[1m147s\u001b[0m 646ms/step - accuracy: 0.9456 - loss: 0.1633 - val_accuracy: 0.9412 - val_loss: 0.1694 - learning_rate: 1.0000e-05\n",
      "Epoch 51/100\n",
      "\u001b[1m228/228\u001b[0m \u001b[32m━━━━━━━━━━━━━━━━━━━━\u001b[0m\u001b[37m\u001b[0m \u001b[1m0s\u001b[0m 631ms/step - accuracy: 0.9456 - loss: 0.1627"
     ]
    },
    {
     "name": "stderr",
     "output_type": "stream",
     "text": [
      "WARNING:absl:You are saving your model as an HDF5 file via `model.save()` or `keras.saving.save_model(model)`. This file format is considered legacy. We recommend using instead the native Keras format, e.g. `model.save('my_model.keras')` or `keras.saving.save_model(model, 'my_model.keras')`. \n"
     ]
    },
    {
     "name": "stdout",
     "output_type": "stream",
     "text": [
      "\u001b[1m228/228\u001b[0m \u001b[32m━━━━━━━━━━━━━━━━━━━━\u001b[0m\u001b[37m\u001b[0m \u001b[1m147s\u001b[0m 647ms/step - accuracy: 0.9456 - loss: 0.1627 - val_accuracy: 0.9422 - val_loss: 0.1690 - learning_rate: 1.0000e-05\n",
      "Epoch 52/100\n",
      "\u001b[1m228/228\u001b[0m \u001b[32m━━━━━━━━━━━━━━━━━━━━\u001b[0m\u001b[37m\u001b[0m \u001b[1m147s\u001b[0m 643ms/step - accuracy: 0.9461 - loss: 0.1611 - val_accuracy: 0.9417 - val_loss: 0.1682 - learning_rate: 1.0000e-05\n",
      "Epoch 53/100\n",
      "\u001b[1m228/228\u001b[0m \u001b[32m━━━━━━━━━━━━━━━━━━━━\u001b[0m\u001b[37m\u001b[0m \u001b[1m147s\u001b[0m 647ms/step - accuracy: 0.9472 - loss: 0.1586 - val_accuracy: 0.9411 - val_loss: 0.1679 - learning_rate: 1.0000e-05\n",
      "Epoch 54/100\n",
      "\u001b[1m228/228\u001b[0m \u001b[32m━━━━━━━━━━━━━━━━━━━━\u001b[0m\u001b[37m\u001b[0m \u001b[1m147s\u001b[0m 644ms/step - accuracy: 0.9474 - loss: 0.1585 - val_accuracy: 0.9409 - val_loss: 0.1683 - learning_rate: 1.0000e-05\n",
      "Epoch 55/100\n",
      "\u001b[1m228/228\u001b[0m \u001b[32m━━━━━━━━━━━━━━━━━━━━\u001b[0m\u001b[37m\u001b[0m \u001b[1m146s\u001b[0m 640ms/step - accuracy: 0.9482 - loss: 0.1555 - val_accuracy: 0.9418 - val_loss: 0.1668 - learning_rate: 1.0000e-05\n",
      "Epoch 56/100\n",
      "\u001b[1m228/228\u001b[0m \u001b[32m━━━━━━━━━━━━━━━━━━━━\u001b[0m\u001b[37m\u001b[0m \u001b[1m146s\u001b[0m 642ms/step - accuracy: 0.9475 - loss: 0.1580 - val_accuracy: 0.9411 - val_loss: 0.1674 - learning_rate: 1.0000e-05\n",
      "Epoch 57/100\n",
      "\u001b[1m228/228\u001b[0m \u001b[32m━━━━━━━━━━━━━━━━━━━━\u001b[0m\u001b[37m\u001b[0m \u001b[1m146s\u001b[0m 641ms/step - accuracy: 0.9472 - loss: 0.1604 - val_accuracy: 0.9408 - val_loss: 0.1678 - learning_rate: 1.0000e-05\n",
      "Epoch 58/100\n",
      "\u001b[1m228/228\u001b[0m \u001b[32m━━━━━━━━━━━━━━━━━━━━\u001b[0m\u001b[37m\u001b[0m \u001b[1m146s\u001b[0m 640ms/step - accuracy: 0.9475 - loss: 0.1598 - val_accuracy: 0.9415 - val_loss: 0.1670 - learning_rate: 1.0000e-05\n",
      "Epoch 59/100\n",
      "\u001b[1m228/228\u001b[0m \u001b[32m━━━━━━━━━━━━━━━━━━━━\u001b[0m\u001b[37m\u001b[0m \u001b[1m0s\u001b[0m 631ms/step - accuracy: 0.9485 - loss: 0.1548"
     ]
    },
    {
     "name": "stderr",
     "output_type": "stream",
     "text": [
      "WARNING:absl:You are saving your model as an HDF5 file via `model.save()` or `keras.saving.save_model(model)`. This file format is considered legacy. We recommend using instead the native Keras format, e.g. `model.save('my_model.keras')` or `keras.saving.save_model(model, 'my_model.keras')`. \n"
     ]
    },
    {
     "name": "stdout",
     "output_type": "stream",
     "text": [
      "\u001b[1m228/228\u001b[0m \u001b[32m━━━━━━━━━━━━━━━━━━━━\u001b[0m\u001b[37m\u001b[0m \u001b[1m148s\u001b[0m 647ms/step - accuracy: 0.9485 - loss: 0.1548 - val_accuracy: 0.9426 - val_loss: 0.1662 - learning_rate: 1.0000e-05\n",
      "Epoch 60/100\n",
      "\u001b[1m228/228\u001b[0m \u001b[32m━━━━━━━━━━━━━━━━━━━━\u001b[0m\u001b[37m\u001b[0m \u001b[1m146s\u001b[0m 640ms/step - accuracy: 0.9465 - loss: 0.1564 - val_accuracy: 0.9417 - val_loss: 0.1661 - learning_rate: 1.0000e-05\n",
      "Epoch 61/100\n",
      "\u001b[1m228/228\u001b[0m \u001b[32m━━━━━━━━━━━━━━━━━━━━\u001b[0m\u001b[37m\u001b[0m \u001b[1m152s\u001b[0m 665ms/step - accuracy: 0.9476 - loss: 0.1585 - val_accuracy: 0.9422 - val_loss: 0.1654 - learning_rate: 1.0000e-05\n",
      "Epoch 62/100\n",
      "\u001b[1m228/228\u001b[0m \u001b[32m━━━━━━━━━━━━━━━━━━━━\u001b[0m\u001b[37m\u001b[0m \u001b[1m146s\u001b[0m 640ms/step - accuracy: 0.9472 - loss: 0.1575 - val_accuracy: 0.9420 - val_loss: 0.1660 - learning_rate: 1.0000e-05\n",
      "Epoch 63/100\n",
      "\u001b[1m228/228\u001b[0m \u001b[32m━━━━━━━━━━━━━━━━━━━━\u001b[0m\u001b[37m\u001b[0m \u001b[1m146s\u001b[0m 641ms/step - accuracy: 0.9482 - loss: 0.1549 - val_accuracy: 0.9426 - val_loss: 0.1657 - learning_rate: 1.0000e-05\n",
      "Epoch 64/100\n",
      "\u001b[1m228/228\u001b[0m \u001b[32m━━━━━━━━━━━━━━━━━━━━\u001b[0m\u001b[37m\u001b[0m \u001b[1m0s\u001b[0m 622ms/step - accuracy: 0.9493 - loss: 0.1508"
     ]
    },
    {
     "name": "stderr",
     "output_type": "stream",
     "text": [
      "WARNING:absl:You are saving your model as an HDF5 file via `model.save()` or `keras.saving.save_model(model)`. This file format is considered legacy. We recommend using instead the native Keras format, e.g. `model.save('my_model.keras')` or `keras.saving.save_model(model, 'my_model.keras')`. \n"
     ]
    },
    {
     "name": "stdout",
     "output_type": "stream",
     "text": [
      "\u001b[1m228/228\u001b[0m \u001b[32m━━━━━━━━━━━━━━━━━━━━\u001b[0m\u001b[37m\u001b[0m \u001b[1m145s\u001b[0m 638ms/step - accuracy: 0.9493 - loss: 0.1508 - val_accuracy: 0.9434 - val_loss: 0.1657 - learning_rate: 1.0000e-05\n",
      "Epoch 65/100\n",
      "\u001b[1m228/228\u001b[0m \u001b[32m━━━━━━━━━━━━━━━━━━━━\u001b[0m\u001b[37m\u001b[0m \u001b[1m0s\u001b[0m 629ms/step - accuracy: 0.9492 - loss: 0.1520"
     ]
    },
    {
     "name": "stderr",
     "output_type": "stream",
     "text": [
      "WARNING:absl:You are saving your model as an HDF5 file via `model.save()` or `keras.saving.save_model(model)`. This file format is considered legacy. We recommend using instead the native Keras format, e.g. `model.save('my_model.keras')` or `keras.saving.save_model(model, 'my_model.keras')`. \n"
     ]
    },
    {
     "name": "stdout",
     "output_type": "stream",
     "text": [
      "\u001b[1m228/228\u001b[0m \u001b[32m━━━━━━━━━━━━━━━━━━━━\u001b[0m\u001b[37m\u001b[0m \u001b[1m147s\u001b[0m 645ms/step - accuracy: 0.9492 - loss: 0.1520 - val_accuracy: 0.9440 - val_loss: 0.1654 - learning_rate: 1.0000e-05\n"
     ]
    },
    {
     "data": {
      "image/png": "[encoded data removed]",
      "text/plain": [
       "<Figure size 1400x600 with 2 Axes>"
      ]
     },
     "metadata": {},
     "output_type": "display_data"
    },
    {
     "name": "stderr",
     "output_type": "stream",
     "text": [
      "WARNING:absl:Compiled the loaded model, but the compiled metrics have yet to be built. `model.compile_metrics` will be empty until you train or evaluate the model.\n"
     ]
    },
    {
     "name": "stdout",
     "output_type": "stream",
     "text": [
      "\u001b[1m225/225\u001b[0m \u001b[32m━━━━━━━━━━━━━━━━━━━━\u001b[0m\u001b[37m\u001b[0m \u001b[1m13s\u001b[0m 56ms/step\n",
      "\n",
      "\u001b[1mFinal Validation Metrics (on best model):\u001b[0m\n",
      "Accuracy: 0.9351\n",
      "Precision: 0.9425\n",
      "Recall: 0.9273\n",
      "F1-score: 0.9348\n",
      "\n",
      "\u001b[Classification Report:\u001b[0m\n",
      "              precision    recall  f1-score   support\n",
      "\n",
      "   Non-Toxic     0.9280    0.9430    0.9354      3579\n",
      "       Toxic     0.9425    0.9273    0.9348      3604\n",
      "\n",
      "    accuracy                         0.9351      7183\n",
      "   macro avg     0.9352    0.9352    0.9351      7183\n",
      "weighted avg     0.9352    0.9351    0.9351      7183\n",
      "\n"
     ]
    },
    {
     "data": {
      "image/png": "[encoded data removed]",
      "text/plain": [
       "<Figure size 800x600 with 2 Axes>"
      ]
     },
     "metadata": {},
     "output_type": "display_data"
    },
    {
     "name": "stdout",
     "output_type": "stream",
     "text": [
      "\u001b[1m1/1\u001b[0m \u001b[32m━━━━━━━━━━━━━━━━━━━━\u001b[0m\u001b[37m\u001b[0m \u001b[1m0s\u001b[0m 267ms/step\n",
      "\n",
      "Text: You're an idiot!\n",
      "Non-toxic: 3.96% | Toxic: 96.04%\n",
      "\u001b[1m1/1\u001b[0m \u001b[32m━━━━━━━━━━━━━━━━━━━━\u001b[0m\u001b[37m\u001b[0m \u001b[1m0s\u001b[0m 52ms/step\n",
      "\n",
      "Text: Have a nice day!\n",
      "Non-toxic: 87.54% | Toxic: 12.46%\n"
     ]
    }
   ],
   "source": [
    "import pandas as pd\n",
    "import numpy as np\n",
    "import re\n",
    "import matplotlib.pyplot as plt\n",
    "import seaborn as sns\n",
    "import nltk\n",
    "import spacy\n",
    "import tensorflow as tf\n",
    "from nltk.corpus import stopwords\n",
    "from nltk.stem import WordNetLemmatizer\n",
    "from nltk.tokenize import word_tokenize\n",
    "from sklearn.model_selection import train_test_split\n",
    "from sklearn.utils import resample\n",
    "from sklearn.metrics import (\n",
    "    accuracy_score,\n",
    "    precision_score,\n",
    "    recall_score,\n",
    "    f1_score,\n",
    "    classification_report,\n",
    "    confusion_matrix,\n",
    ")\n",
    "from tensorflow.keras.preprocessing.text import Tokenizer\n",
    "from tensorflow.keras.preprocessing.sequence import pad_sequences\n",
    "from tensorflow.keras.models import Sequential\n",
    "from tensorflow.keras.layers import Embedding, LSTM, Dense, Dropout\n",
    "from tensorflow.keras.optimizers import Adam\n",
    "from tensorflow.keras.regularizers import l2\n",
    "from tensorflow.keras.callbacks import EarlyStopping, ReduceLROnPlateau, ModelCheckpoint\n",
    "from tensorflow.keras.utils import to_categorical\n",
    "\n",
    "# NLTK downloads\n",
    "nltk.download(\"stopwords\")\n",
    "nltk.download(\"wordnet\")\n",
    "nltk.download(\"punkt\")\n",
    "\n",
    "# ✅ Move this function up BEFORE it's called\n",
    "def prepare_labels(df):\n",
    "    print(\"\\nAvailable columns in DataFrame:\", df.columns.tolist())\n",
    "    text_col = None\n",
    "    for possible_col in [\"comment_text\", \"text\"]:\n",
    "        if possible_col in df.columns:\n",
    "            text_col = possible_col\n",
    "            break\n",
    "    if text_col is None:\n",
    "        raise ValueError(\n",
    "            f\"No recognized text column found. Available columns: {df.columns.tolist()}\"\n",
    "        )\n",
    "\n",
    "    if \"toxic\" in df.columns:\n",
    "        print(\"Using 'toxic' column for labels\")\n",
    "        df[\"class\"] = np.where(df[\"toxic\"] >= 0.5, 1, 0)\n",
    "    else:\n",
    "        available_cols = [c for c in df.columns if c not in [text_col]]\n",
    "        raise ValueError(\n",
    "            f\"No recognized label columns found. Available columns: {df.columns.tolist()}\\n\"\n",
    "            f\"Potential label columns: {available_cols}\"\n",
    "        )\n",
    "\n",
    "    return df[[text_col, \"class\"]].rename(columns={text_col: \"tweet\"})\n",
    "\n",
    "\n",
    "# ✅ Load and merge datasets\n",
    "print(\"Loading and merging datasets...\")\n",
    "\n",
    "df1 = pd.read_csv(\"./data/labeled_data.csv\")  # Davidson et al.\n",
    "df1 = df1.rename(columns={\"tweet\": \"tweet\", \"class\": \"label\"})\n",
    "df1[\"class\"] = df1[\"label\"].apply(lambda x: 1 if x in [0, 1] else 0)\n",
    "df1 = df1[[\"tweet\", \"class\"]]\n",
    "\n",
    "df2 = pd.read_csv(\"./data/train.csv\")  # Jigsaw dataset\n",
    "df2_prepared = prepare_labels(df2)\n",
    "\n",
    "combined_df = pd.concat([df1, df2_prepared], ignore_index=True)\n",
    "combined_df.drop_duplicates(subset=\"tweet\", inplace=True)\n",
    "\n",
    "print(\"Merged dataset shape:\", combined_df.shape)\n",
    "prepared_df = combined_df  # ✅ This is the version you keep using\n",
    "\n",
    "\n",
    "def prepare_labels(df):\n",
    "    print(\"\\nAvailable columns in DataFrame:\", df.columns.tolist())\n",
    "    text_col = None\n",
    "    for possible_col in [\"comment_text\", \"text\"]:\n",
    "        if possible_col in df.columns:\n",
    "            text_col = possible_col\n",
    "            break\n",
    "    if text_col is None:\n",
    "        raise ValueError(\n",
    "            f\"No recognized text column found. Available columns: {df.columns.tolist()}\"\n",
    "        )\n",
    "\n",
    "    if \"toxic\" in df.columns:\n",
    "        print(\"Using 'toxic' column for labels\")\n",
    "        df[\"class\"] = np.where(df[\"toxic\"] >= 0.5, 1, 0)\n",
    "    else:\n",
    "        available_cols = [c for c in df.columns if c not in [text_col]]\n",
    "        raise ValueError(\n",
    "            f\"No recognized label columns found. Available columns: {df.columns.tolist()}\\n\"\n",
    "            f\"Potential label columns: {available_cols}\"\n",
    "        )\n",
    "\n",
    "    return df[[text_col, \"class\"]].rename(columns={text_col: \"tweet\"})\n",
    "\n",
    "\n",
    "print(\"Preparing data...\")\n",
    "\n",
    "print(\"\\nBalancing classes...\")\n",
    "df_majority = prepared_df[prepared_df[\"class\"] == 0]\n",
    "df_minority = prepared_df[prepared_df[\"class\"] == 1]\n",
    "if len(df_minority) == 0:\n",
    "    raise ValueError(\"No toxic samples found in dataset!\")\n",
    "\n",
    "df_majority = resample(df_majority, n_samples=len(df_minority), random_state=42)\n",
    "balanced_df = pd.concat([df_majority, df_minority]).sample(frac=1, random_state=42)\n",
    "\n",
    "print(\"\\nSetting up text cleaning...\")\n",
    "lemmatizer = WordNetLemmatizer()\n",
    "stop_words = set(stopwords.words(\"english\"))\n",
    "\n",
    "def clean_text(text):\n",
    "    try:\n",
    "        if pd.isna(text):\n",
    "            return \"\"\n",
    "        text = str(text).lower()\n",
    "        text = re.sub(r\"won't\", \"will not\", text)\n",
    "        text = re.sub(r\"can\\'t\", \"can not\", text)\n",
    "        text = re.sub(r\"n\\'t\", \" not\", text)\n",
    "        text = re.sub(r\"\\'re\", \" are\", text)\n",
    "        text = re.sub(r\"\\'s\", \" is\", text)\n",
    "        text = re.sub(r\"\\'d\", \" would\", text)\n",
    "        text = re.sub(r\"\\'ll\", \" will\", text)\n",
    "        text = re.sub(r\"\\'t\", \" not\", text)\n",
    "        text = re.sub(r\"\\'ve\", \" have\", text)\n",
    "        text = re.sub(r\"\\'m\", \" am\", text)\n",
    "        text = re.sub(r\"http\\S+|www\\S+|https\\S+\", \"\", text, flags=re.MULTILINE)\n",
    "        text = re.sub(r\"@\\w+|\\#\", \"\", text)\n",
    "        text = re.sub(r\"[^\\w\\s]\", \"\", text)\n",
    "        tokens = [\n",
    "            lemmatizer.lemmatize(word)\n",
    "            for word in word_tokenize(text)\n",
    "            if word not in stop_words\n",
    "        ]\n",
    "        return \" \".join(tokens)\n",
    "    except Exception as e:\n",
    "        print(f\"Error cleaning text: {text[:50]}... Error: {str(e)}\")\n",
    "        return \"\"\n",
    "\n",
    "print(\"\\nCleaning text with simple apply...\")\n",
    "balanced_df[\"cleaned_text\"] = balanced_df[\"tweet\"].apply(clean_text)\n",
    "\n",
    "tokenizer = Tokenizer(num_words=30000, oov_token=\"<OOV>\")\n",
    "tokenizer.fit_on_texts(balanced_df[\"cleaned_text\"])\n",
    "sequences = tokenizer.texts_to_sequences(balanced_df[\"cleaned_text\"])\n",
    "import pickle\n",
    "with open('original_tokenizer.pickle', 'wb') as handle:\n",
    "    pickle.dump(tokenizer, handle, protocol=pickle.HIGHEST_PROTOCOL)\n",
    "padded_sequences = pad_sequences(sequences, maxlen=128, truncating=\"post\")\n",
    "\n",
    "y = to_categorical(balanced_df[\"class\"])\n",
    "X_train, X_test, y_train, y_test = train_test_split(\n",
    "    padded_sequences, y, test_size=0.1, random_state=42\n",
    ")\n",
    "\n",
    "print(\"Loading word embeddings...\")\n",
    "try:\n",
    "    nlp = spacy.load(\"en_core_web_md\")\n",
    "except:\n",
    "    import subprocess\n",
    "    subprocess.run([\"python\", \"-m\", \"spacy\", \"download\", \"en_core_web_md\"])\n",
    "    nlp = spacy.load(\"en_core_web_md\")\n",
    "\n",
    "embedding_dim = 300\n",
    "vocab_size = min(30000, len(tokenizer.word_index) + 1)\n",
    "embedding_matrix = np.zeros((vocab_size, embedding_dim))\n",
    "\n",
    "for word, i in tokenizer.word_index.items():\n",
    "    if i < vocab_size:\n",
    "        embedding_matrix[i] = nlp(word).vector\n",
    "\n",
    "model = Sequential(\n",
    "    [\n",
    "        Embedding(\n",
    "            input_dim=30000,\n",
    "            output_dim=300,\n",
    "            weights=[embedding_matrix],\n",
    "            trainable=True,\n",
    "        ),\n",
    "        LSTM(\n",
    "            256, dropout=0.3, recurrent_dropout=0.3, kernel_regularizer=l2(0.01)\n",
    "        ),\n",
    "        Dense(2, activation=\"softmax\"),\n",
    "    ]\n",
    ")\n",
    "\n",
    "model.compile(\n",
    "    optimizer=Adam(learning_rate=0.00005),\n",
    "    loss=\"categorical_crossentropy\",\n",
    "    metrics=[\"accuracy\"],\n",
    ")\n",
    "\n",
    "callbacks = [\n",
    "    EarlyStopping(monitor=\"val_loss\", patience=4, restore_best_weights=True),\n",
    "    ReduceLROnPlateau(\n",
    "        monitor=\"val_loss\", factor=0.2, patience=1, min_lr=0.00001\n",
    "    ),\n",
    "    ModelCheckpoint(\n",
    "        \"best_toxic_model.h5\", monitor=\"val_accuracy\", mode=\"max\", save_best_only=True\n",
    "    ),\n",
    "]\n",
    "\n",
    "history = model.fit(\n",
    "    X_train,\n",
    "    y_train,\n",
    "    epochs=100,\n",
    "    batch_size=256,\n",
    "    validation_split=0.1,\n",
    "    callbacks=callbacks,\n",
    "    verbose=1,\n",
    ")\n",
    "\n",
    "# ===== NEW FUNCTION TO PLOT TRAINING HISTORY =====\n",
    "def plot_training_history(history):\n",
    "    acc = history.history[\"accuracy\"]\n",
    "    val_acc = history.history[\"val_accuracy\"]\n",
    "    loss = history.history[\"loss\"]\n",
    "    val_loss = history.history[\"val_loss\"]\n",
    "    epochs_range = range(1, len(acc) + 1)\n",
    "\n",
    "    plt.figure(figsize=(14, 6))\n",
    "\n",
    "    plt.subplot(1, 2, 1)\n",
    "    plt.plot(epochs_range, acc, label=\"Training Accuracy\", marker=\"o\")\n",
    "    plt.plot(epochs_range, val_acc, label=\"Validation Accuracy\", marker=\"o\")\n",
    "    plt.legend(loc=\"lower right\")\n",
    "    plt.title(\"Training and Validation Accuracy\")\n",
    "    plt.xlabel(\"Epochs\")\n",
    "    plt.ylabel(\"Accuracy\")\n",
    "    plt.grid(True)\n",
    "\n",
    "    plt.subplot(1, 2, 2)\n",
    "    plt.plot(epochs_range, loss, label=\"Training Loss\", marker=\"o\")\n",
    "    plt.plot(epochs_range, val_loss, label=\"Validation Loss\", marker=\"o\")\n",
    "    plt.legend(loc=\"upper right\")\n",
    "    plt.title(\"Training and Validation Loss\")\n",
    "    plt.xlabel(\"Epochs\")\n",
    "    plt.ylabel(\"Loss\")\n",
    "    plt.grid(True)\n",
    "\n",
    "    plt.tight_layout()\n",
    "    plt.show()\n",
    "\n",
    "# Call the plotting function\n",
    "plot_training_history(history)\n",
    "\n",
    "# ===== EVALUATION FUNCTION =====\n",
    "def evaluate_model(model, X_test, y_test):\n",
    "    from tensorflow.keras.models import load_model\n",
    "    best_model = load_model(\"best_toxic_model.h5\")\n",
    "    y_pred = best_model.predict(X_test)\n",
    "    y_pred_classes = np.argmax(y_pred, axis=1)\n",
    "    y_true = np.argmax(y_test, axis=1)\n",
    "\n",
    "    accuracy = accuracy_score(y_true, y_pred_classes)\n",
    "    precision = precision_score(y_true, y_pred_classes)\n",
    "    recall = recall_score(y_true, y_pred_classes)\n",
    "    f1 = f1_score(y_true, y_pred_classes)\n",
    "\n",
    "    print(\"\\n\\033[1mFinal Validation Metrics (on best model):\\033[0m\")\n",
    "    print(f\"Accuracy: {accuracy:.4f}\")\n",
    "    print(f\"Precision: {precision:.4f}\")\n",
    "    print(f\"Recall: {recall:.4f}\")\n",
    "    print(f\"F1-score: {f1:.4f}\\n\")\n",
    "\n",
    "    print(\"\\033[Classification Report:\\033[0m\")\n",
    "    print(classification_report(\n",
    "        y_true, y_pred_classes,\n",
    "        target_names=[\"Non-Toxic\", \"Toxic\"],\n",
    "        digits=4,\n",
    "    ))\n",
    "\n",
    "    cm = confusion_matrix(y_true, y_pred_classes)\n",
    "    plt.figure(figsize=(8, 6))\n",
    "    sns.heatmap(cm, annot=True, fmt=\"d\", cmap=\"Blues\",\n",
    "                xticklabels=[\"Non-Toxic\", \"Toxic\"],\n",
    "                yticklabels=[\"Non-Toxic\", \"Toxic\"])\n",
    "    plt.title(\"Confusion Matrix\\n(True vs Predicted)\")\n",
    "    plt.ylabel(\"Actual Label\")\n",
    "    plt.xlabel(\"Predicted Label\")\n",
    "    plt.show()\n",
    "\n",
    "# ===== PREDICTION FUNCTION =====\n",
    "def predict_toxicity(text):\n",
    "    cleaned = clean_text(text)\n",
    "    seq = tokenizer.texts_to_sequences([cleaned])\n",
    "    padded = pad_sequences(seq, maxlen=128)\n",
    "    prob = model.predict(padded)[0]\n",
    "    print(f\"\\nText: {text}\")\n",
    "    print(f\"Non-toxic: {prob[0]*100:.2f}% | Toxic: {prob[1]*100:.2f}%\")\n",
    "\n",
    "# ===== EXECUTION =====\n",
    "evaluate_model(model, X_test, y_test)\n",
    "predict_toxicity(\"You're an idiot!\")\n",
    "predict_toxicity(\"Have a nice day!\")"
   ]
  }
 ],
 "metadata": {
  "kernelspec": {
   "display_name": "Python 3",
   "language": "python",
   "name": "python3"
  },
  "language_info": {
   "codemirror_mode": {
    "name": "ipython",
    "version": 3
   },
   "file_extension": ".py",
   "mimetype": "text/x-python",
   "name": "python",
   "nbconvert_exporter": "python",
   "pygments_lexer": "ipython3",
   "version": "3.12.2"
  }
 },
 "nbformat": 4,
 "nbformat_minor": 5
}
