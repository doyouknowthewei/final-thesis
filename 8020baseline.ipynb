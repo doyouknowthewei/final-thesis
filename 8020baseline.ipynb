{
 "cells": [
  {
   "cell_type": "code",
   "execution_count": 1,
   "id": "5faad731",
   "metadata": {},
   "outputs": [
    {
     "name": "stderr",
     "output_type": "stream",
     "text": [
      "[nltk_data] Downloading package stopwords to C:\\nltk_data...\n",
      "[nltk_data]   Package stopwords is already up-to-date!\n",
      "[nltk_data] Downloading package wordnet to C:\\nltk_data...\n",
      "[nltk_data]   Package wordnet is already up-to-date!\n",
      "[nltk_data] Downloading package punkt to C:\\nltk_data...\n",
      "[nltk_data]   Package punkt is already up-to-date!\n"
     ]
    },
    {
     "name": "stdout",
     "output_type": "stream",
     "text": [
      "Loading and merging datasets...\n",
      "\n",
      "Available columns in DataFrame: ['id', 'comment_text', 'toxic', 'severe_toxic', 'obscene', 'threat', 'insult', 'identity_hate']\n",
      "Using 'toxic' column for labels\n",
      "Merged dataset shape: (184354, 2)\n",
      "Preparing data...\n",
      "\n",
      "Balancing classes...\n",
      "\n",
      "Setting up text cleaning...\n",
      "\n",
      "Cleaning text with simple apply...\n",
      "Loading word embeddings...\n",
      "Epoch 1/100\n",
      "\u001b[1m203/203\u001b[0m \u001b[32m━━━━━━━━━━━━━━━━━━━━\u001b[0m\u001b[37m\u001b[0m \u001b[1m0s\u001b[0m 651ms/step - accuracy: 0.7684 - loss: 4.7310"
     ]
    },
    {
     "name": "stderr",
     "output_type": "stream",
     "text": [
      "WARNING:absl:You are saving your model as an HDF5 file via `model.save()` or `keras.saving.save_model(model)`. This file format is considered legacy. We recommend using instead the native Keras format, e.g. `model.save('my_model.keras')` or `keras.saving.save_model(model, 'my_model.keras')`. \n"
     ]
    },
    {
     "name": "stdout",
     "output_type": "stream",
     "text": [
      "\u001b[1m203/203\u001b[0m \u001b[32m━━━━━━━━━━━━━━━━━━━━\u001b[0m\u001b[37m\u001b[0m \u001b[1m139s\u001b[0m 669ms/step - accuracy: 0.7686 - loss: 4.7286 - val_accuracy: 0.8845 - val_loss: 3.3649 - learning_rate: 5.0000e-05\n",
      "Epoch 2/100\n",
      "\u001b[1m203/203\u001b[0m \u001b[32m━━━━━━━━━━━━━━━━━━━━\u001b[0m\u001b[37m\u001b[0m \u001b[1m0s\u001b[0m 641ms/step - accuracy: 0.8760 - loss: 3.0781"
     ]
    },
    {
     "name": "stderr",
     "output_type": "stream",
     "text": [
      "WARNING:absl:You are saving your model as an HDF5 file via `model.save()` or `keras.saving.save_model(model)`. This file format is considered legacy. We recommend using instead the native Keras format, e.g. `model.save('my_model.keras')` or `keras.saving.save_model(model, 'my_model.keras')`. \n"
     ]
    },
    {
     "name": "stdout",
     "output_type": "stream",
     "text": [
      "\u001b[1m203/203\u001b[0m \u001b[32m━━━━━━━━━━━━━━━━━━━━\u001b[0m\u001b[37m\u001b[0m \u001b[1m133s\u001b[0m 657ms/step - accuracy: 0.8760 - loss: 3.0767 - val_accuracy: 0.8996 - val_loss: 2.2658 - learning_rate: 5.0000e-05\n",
      "Epoch 3/100\n",
      "\u001b[1m203/203\u001b[0m \u001b[32m━━━━━━━━━━━━━━━━━━━━\u001b[0m\u001b[37m\u001b[0m \u001b[1m0s\u001b[0m 645ms/step - accuracy: 0.8917 - loss: 2.0804"
     ]
    },
    {
     "name": "stderr",
     "output_type": "stream",
     "text": [
      "WARNING:absl:You are saving your model as an HDF5 file via `model.save()` or `keras.saving.save_model(model)`. This file format is considered legacy. We recommend using instead the native Keras format, e.g. `model.save('my_model.keras')` or `keras.saving.save_model(model, 'my_model.keras')`. \n"
     ]
    },
    {
     "name": "stdout",
     "output_type": "stream",
     "text": [
      "\u001b[1m203/203\u001b[0m \u001b[32m━━━━━━━━━━━━━━━━━━━━\u001b[0m\u001b[37m\u001b[0m \u001b[1m134s\u001b[0m 661ms/step - accuracy: 0.8917 - loss: 2.0796 - val_accuracy: 0.9060 - val_loss: 1.5421 - learning_rate: 5.0000e-05\n",
      "Epoch 4/100\n",
      "\u001b[1m203/203\u001b[0m \u001b[32m━━━━━━━━━━━━━━━━━━━━\u001b[0m\u001b[37m\u001b[0m \u001b[1m0s\u001b[0m 641ms/step - accuracy: 0.8959 - loss: 1.4298"
     ]
    },
    {
     "name": "stderr",
     "output_type": "stream",
     "text": [
      "WARNING:absl:You are saving your model as an HDF5 file via `model.save()` or `keras.saving.save_model(model)`. This file format is considered legacy. We recommend using instead the native Keras format, e.g. `model.save('my_model.keras')` or `keras.saving.save_model(model, 'my_model.keras')`. \n"
     ]
    },
    {
     "name": "stdout",
     "output_type": "stream",
     "text": [
      "\u001b[1m203/203\u001b[0m \u001b[32m━━━━━━━━━━━━━━━━━━━━\u001b[0m\u001b[37m\u001b[0m \u001b[1m133s\u001b[0m 657ms/step - accuracy: 0.8959 - loss: 1.4292 - val_accuracy: 0.9073 - val_loss: 1.0781 - learning_rate: 5.0000e-05\n",
      "Epoch 5/100\n",
      "\u001b[1m203/203\u001b[0m \u001b[32m━━━━━━━━━━━━━━━━━━━━\u001b[0m\u001b[37m\u001b[0m \u001b[1m0s\u001b[0m 643ms/step - accuracy: 0.9021 - loss: 1.0039"
     ]
    },
    {
     "name": "stderr",
     "output_type": "stream",
     "text": [
      "WARNING:absl:You are saving your model as an HDF5 file via `model.save()` or `keras.saving.save_model(model)`. This file format is considered legacy. We recommend using instead the native Keras format, e.g. `model.save('my_model.keras')` or `keras.saving.save_model(model, 'my_model.keras')`. \n"
     ]
    },
    {
     "name": "stdout",
     "output_type": "stream",
     "text": [
      "\u001b[1m203/203\u001b[0m \u001b[32m━━━━━━━━━━━━━━━━━━━━\u001b[0m\u001b[37m\u001b[0m \u001b[1m134s\u001b[0m 659ms/step - accuracy: 0.9021 - loss: 1.0035 - val_accuracy: 0.9144 - val_loss: 0.7704 - learning_rate: 5.0000e-05\n",
      "Epoch 6/100\n",
      "\u001b[1m203/203\u001b[0m \u001b[32m━━━━━━━━━━━━━━━━━━━━\u001b[0m\u001b[37m\u001b[0m \u001b[1m0s\u001b[0m 642ms/step - accuracy: 0.9084 - loss: 0.7277"
     ]
    },
    {
     "name": "stderr",
     "output_type": "stream",
     "text": [
      "WARNING:absl:You are saving your model as an HDF5 file via `model.save()` or `keras.saving.save_model(model)`. This file format is considered legacy. We recommend using instead the native Keras format, e.g. `model.save('my_model.keras')` or `keras.saving.save_model(model, 'my_model.keras')`. \n"
     ]
    },
    {
     "name": "stdout",
     "output_type": "stream",
     "text": [
      "\u001b[1m203/203\u001b[0m \u001b[32m━━━━━━━━━━━━━━━━━━━━\u001b[0m\u001b[37m\u001b[0m \u001b[1m134s\u001b[0m 658ms/step - accuracy: 0.9084 - loss: 0.7275 - val_accuracy: 0.9161 - val_loss: 0.5760 - learning_rate: 5.0000e-05\n",
      "Epoch 7/100\n",
      "\u001b[1m203/203\u001b[0m \u001b[32m━━━━━━━━━━━━━━━━━━━━\u001b[0m\u001b[37m\u001b[0m \u001b[1m0s\u001b[0m 642ms/step - accuracy: 0.9109 - loss: 0.5530"
     ]
    },
    {
     "name": "stderr",
     "output_type": "stream",
     "text": [
      "WARNING:absl:You are saving your model as an HDF5 file via `model.save()` or `keras.saving.save_model(model)`. This file format is considered legacy. We recommend using instead the native Keras format, e.g. `model.save('my_model.keras')` or `keras.saving.save_model(model, 'my_model.keras')`. \n"
     ]
    },
    {
     "name": "stdout",
     "output_type": "stream",
     "text": [
      "\u001b[1m203/203\u001b[0m \u001b[32m━━━━━━━━━━━━━━━━━━━━\u001b[0m\u001b[37m\u001b[0m \u001b[1m134s\u001b[0m 659ms/step - accuracy: 0.9109 - loss: 0.5529 - val_accuracy: 0.9201 - val_loss: 0.4529 - learning_rate: 5.0000e-05\n",
      "Epoch 8/100\n",
      "\u001b[1m203/203\u001b[0m \u001b[32m━━━━━━━━━━━━━━━━━━━━\u001b[0m\u001b[37m\u001b[0m \u001b[1m134s\u001b[0m 659ms/step - accuracy: 0.9122 - loss: 0.4418 - val_accuracy: 0.9175 - val_loss: 0.3776 - learning_rate: 5.0000e-05\n",
      "Epoch 9/100\n",
      "\u001b[1m203/203\u001b[0m \u001b[32m━━━━━━━━━━━━━━━━━━━━\u001b[0m\u001b[37m\u001b[0m \u001b[1m0s\u001b[0m 642ms/step - accuracy: 0.9159 - loss: 0.3680"
     ]
    },
    {
     "name": "stderr",
     "output_type": "stream",
     "text": [
      "WARNING:absl:You are saving your model as an HDF5 file via `model.save()` or `keras.saving.save_model(model)`. This file format is considered legacy. We recommend using instead the native Keras format, e.g. `model.save('my_model.keras')` or `keras.saving.save_model(model, 'my_model.keras')`. \n"
     ]
    },
    {
     "name": "stdout",
     "output_type": "stream",
     "text": [
      "\u001b[1m203/203\u001b[0m \u001b[32m━━━━━━━━━━━━━━━━━━━━\u001b[0m\u001b[37m\u001b[0m \u001b[1m134s\u001b[0m 659ms/step - accuracy: 0.9159 - loss: 0.3679 - val_accuracy: 0.9215 - val_loss: 0.3275 - learning_rate: 5.0000e-05\n",
      "Epoch 10/100\n",
      "\u001b[1m203/203\u001b[0m \u001b[32m━━━━━━━━━━━━━━━━━━━━\u001b[0m\u001b[37m\u001b[0m \u001b[1m0s\u001b[0m 642ms/step - accuracy: 0.9185 - loss: 0.3256"
     ]
    },
    {
     "name": "stderr",
     "output_type": "stream",
     "text": [
      "WARNING:absl:You are saving your model as an HDF5 file via `model.save()` or `keras.saving.save_model(model)`. This file format is considered legacy. We recommend using instead the native Keras format, e.g. `model.save('my_model.keras')` or `keras.saving.save_model(model, 'my_model.keras')`. \n"
     ]
    },
    {
     "name": "stdout",
     "output_type": "stream",
     "text": [
      "\u001b[1m203/203\u001b[0m \u001b[32m━━━━━━━━━━━━━━━━━━━━\u001b[0m\u001b[37m\u001b[0m \u001b[1m134s\u001b[0m 658ms/step - accuracy: 0.9185 - loss: 0.3256 - val_accuracy: 0.9233 - val_loss: 0.2989 - learning_rate: 5.0000e-05\n",
      "Epoch 11/100\n",
      "\u001b[1m203/203\u001b[0m \u001b[32m━━━━━━━━━━━━━━━━━━━━\u001b[0m\u001b[37m\u001b[0m \u001b[1m0s\u001b[0m 643ms/step - accuracy: 0.9254 - loss: 0.2866"
     ]
    },
    {
     "name": "stderr",
     "output_type": "stream",
     "text": [
      "WARNING:absl:You are saving your model as an HDF5 file via `model.save()` or `keras.saving.save_model(model)`. This file format is considered legacy. We recommend using instead the native Keras format, e.g. `model.save('my_model.keras')` or `keras.saving.save_model(model, 'my_model.keras')`. \n"
     ]
    },
    {
     "name": "stdout",
     "output_type": "stream",
     "text": [
      "\u001b[1m203/203\u001b[0m \u001b[32m━━━━━━━━━━━━━━━━━━━━\u001b[0m\u001b[37m\u001b[0m \u001b[1m134s\u001b[0m 659ms/step - accuracy: 0.9254 - loss: 0.2866 - val_accuracy: 0.9262 - val_loss: 0.2735 - learning_rate: 5.0000e-05\n",
      "Epoch 12/100\n",
      "\u001b[1m203/203\u001b[0m \u001b[32m━━━━━━━━━━━━━━━━━━━━\u001b[0m\u001b[37m\u001b[0m \u001b[1m133s\u001b[0m 657ms/step - accuracy: 0.9250 - loss: 0.2721 - val_accuracy: 0.9245 - val_loss: 0.2613 - learning_rate: 5.0000e-05\n",
      "Epoch 13/100\n",
      "\u001b[1m203/203\u001b[0m \u001b[32m━━━━━━━━━━━━━━━━━━━━\u001b[0m\u001b[37m\u001b[0m \u001b[1m0s\u001b[0m 643ms/step - accuracy: 0.9268 - loss: 0.2533"
     ]
    },
    {
     "name": "stderr",
     "output_type": "stream",
     "text": [
      "WARNING:absl:You are saving your model as an HDF5 file via `model.save()` or `keras.saving.save_model(model)`. This file format is considered legacy. We recommend using instead the native Keras format, e.g. `model.save('my_model.keras')` or `keras.saving.save_model(model, 'my_model.keras')`. \n"
     ]
    },
    {
     "name": "stdout",
     "output_type": "stream",
     "text": [
      "\u001b[1m203/203\u001b[0m \u001b[32m━━━━━━━━━━━━━━━━━━━━\u001b[0m\u001b[37m\u001b[0m \u001b[1m134s\u001b[0m 659ms/step - accuracy: 0.9269 - loss: 0.2533 - val_accuracy: 0.9295 - val_loss: 0.2461 - learning_rate: 5.0000e-05\n",
      "Epoch 14/100\n",
      "\u001b[1m203/203\u001b[0m \u001b[32m━━━━━━━━━━━━━━━━━━━━\u001b[0m\u001b[37m\u001b[0m \u001b[1m0s\u001b[0m 646ms/step - accuracy: 0.9300 - loss: 0.2417"
     ]
    },
    {
     "name": "stderr",
     "output_type": "stream",
     "text": [
      "WARNING:absl:You are saving your model as an HDF5 file via `model.save()` or `keras.saving.save_model(model)`. This file format is considered legacy. We recommend using instead the native Keras format, e.g. `model.save('my_model.keras')` or `keras.saving.save_model(model, 'my_model.keras')`. \n"
     ]
    },
    {
     "name": "stdout",
     "output_type": "stream",
     "text": [
      "\u001b[1m203/203\u001b[0m \u001b[32m━━━━━━━━━━━━━━━━━━━━\u001b[0m\u001b[37m\u001b[0m \u001b[1m134s\u001b[0m 662ms/step - accuracy: 0.9300 - loss: 0.2417 - val_accuracy: 0.9309 - val_loss: 0.2370 - learning_rate: 5.0000e-05\n",
      "Epoch 15/100\n",
      "\u001b[1m203/203\u001b[0m \u001b[32m━━━━━━━━━━━━━━━━━━━━\u001b[0m\u001b[37m\u001b[0m \u001b[1m0s\u001b[0m 648ms/step - accuracy: 0.9313 - loss: 0.2317"
     ]
    },
    {
     "name": "stderr",
     "output_type": "stream",
     "text": [
      "WARNING:absl:You are saving your model as an HDF5 file via `model.save()` or `keras.saving.save_model(model)`. This file format is considered legacy. We recommend using instead the native Keras format, e.g. `model.save('my_model.keras')` or `keras.saving.save_model(model, 'my_model.keras')`. \n"
     ]
    },
    {
     "name": "stdout",
     "output_type": "stream",
     "text": [
      "\u001b[1m203/203\u001b[0m \u001b[32m━━━━━━━━━━━━━━━━━━━━\u001b[0m\u001b[37m\u001b[0m \u001b[1m135s\u001b[0m 664ms/step - accuracy: 0.9313 - loss: 0.2317 - val_accuracy: 0.9316 - val_loss: 0.2284 - learning_rate: 5.0000e-05\n",
      "Epoch 16/100\n",
      "\u001b[1m203/203\u001b[0m \u001b[32m━━━━━━━━━━━━━━━━━━━━\u001b[0m\u001b[37m\u001b[0m \u001b[1m0s\u001b[0m 639ms/step - accuracy: 0.9313 - loss: 0.2214"
     ]
    },
    {
     "name": "stderr",
     "output_type": "stream",
     "text": [
      "WARNING:absl:You are saving your model as an HDF5 file via `model.save()` or `keras.saving.save_model(model)`. This file format is considered legacy. We recommend using instead the native Keras format, e.g. `model.save('my_model.keras')` or `keras.saving.save_model(model, 'my_model.keras')`. \n"
     ]
    },
    {
     "name": "stdout",
     "output_type": "stream",
     "text": [
      "\u001b[1m203/203\u001b[0m \u001b[32m━━━━━━━━━━━━━━━━━━━━\u001b[0m\u001b[37m\u001b[0m \u001b[1m133s\u001b[0m 655ms/step - accuracy: 0.9313 - loss: 0.2213 - val_accuracy: 0.9327 - val_loss: 0.2220 - learning_rate: 5.0000e-05\n",
      "Epoch 17/100\n",
      "\u001b[1m203/203\u001b[0m \u001b[32m━━━━━━━━━━━━━━━━━━━━\u001b[0m\u001b[37m\u001b[0m \u001b[1m134s\u001b[0m 659ms/step - accuracy: 0.9335 - loss: 0.2126 - val_accuracy: 0.9311 - val_loss: 0.2173 - learning_rate: 5.0000e-05\n",
      "Epoch 18/100\n",
      "\u001b[1m203/203\u001b[0m \u001b[32m━━━━━━━━━━━━━━━━━━━━\u001b[0m\u001b[37m\u001b[0m \u001b[1m0s\u001b[0m 643ms/step - accuracy: 0.9364 - loss: 0.2047"
     ]
    },
    {
     "name": "stderr",
     "output_type": "stream",
     "text": [
      "WARNING:absl:You are saving your model as an HDF5 file via `model.save()` or `keras.saving.save_model(model)`. This file format is considered legacy. We recommend using instead the native Keras format, e.g. `model.save('my_model.keras')` or `keras.saving.save_model(model, 'my_model.keras')`. \n"
     ]
    },
    {
     "name": "stdout",
     "output_type": "stream",
     "text": [
      "\u001b[1m203/203\u001b[0m \u001b[32m━━━━━━━━━━━━━━━━━━━━\u001b[0m\u001b[37m\u001b[0m \u001b[1m134s\u001b[0m 660ms/step - accuracy: 0.9364 - loss: 0.2047 - val_accuracy: 0.9351 - val_loss: 0.2137 - learning_rate: 5.0000e-05\n",
      "Epoch 19/100\n",
      "\u001b[1m203/203\u001b[0m \u001b[32m━━━━━━━━━━━━━━━━━━━━\u001b[0m\u001b[37m\u001b[0m \u001b[1m133s\u001b[0m 656ms/step - accuracy: 0.9369 - loss: 0.2041 - val_accuracy: 0.9339 - val_loss: 0.2096 - learning_rate: 5.0000e-05\n",
      "Epoch 20/100\n",
      "\u001b[1m203/203\u001b[0m \u001b[32m━━━━━━━━━━━━━━━━━━━━\u001b[0m\u001b[37m\u001b[0m \u001b[1m0s\u001b[0m 639ms/step - accuracy: 0.9394 - loss: 0.1954"
     ]
    },
    {
     "name": "stderr",
     "output_type": "stream",
     "text": [
      "WARNING:absl:You are saving your model as an HDF5 file via `model.save()` or `keras.saving.save_model(model)`. This file format is considered legacy. We recommend using instead the native Keras format, e.g. `model.save('my_model.keras')` or `keras.saving.save_model(model, 'my_model.keras')`. \n"
     ]
    },
    {
     "name": "stdout",
     "output_type": "stream",
     "text": [
      "\u001b[1m203/203\u001b[0m \u001b[32m━━━━━━━━━━━━━━━━━━━━\u001b[0m\u001b[37m\u001b[0m \u001b[1m133s\u001b[0m 655ms/step - accuracy: 0.9394 - loss: 0.1954 - val_accuracy: 0.9356 - val_loss: 0.2065 - learning_rate: 5.0000e-05\n",
      "Epoch 21/100\n",
      "\u001b[1m203/203\u001b[0m \u001b[32m━━━━━━━━━━━━━━━━━━━━\u001b[0m\u001b[37m\u001b[0m \u001b[1m0s\u001b[0m 648ms/step - accuracy: 0.9398 - loss: 0.1913"
     ]
    },
    {
     "name": "stderr",
     "output_type": "stream",
     "text": [
      "WARNING:absl:You are saving your model as an HDF5 file via `model.save()` or `keras.saving.save_model(model)`. This file format is considered legacy. We recommend using instead the native Keras format, e.g. `model.save('my_model.keras')` or `keras.saving.save_model(model, 'my_model.keras')`. \n"
     ]
    },
    {
     "name": "stdout",
     "output_type": "stream",
     "text": [
      "\u001b[1m203/203\u001b[0m \u001b[32m━━━━━━━━━━━━━━━━━━━━\u001b[0m\u001b[37m\u001b[0m \u001b[1m135s\u001b[0m 664ms/step - accuracy: 0.9398 - loss: 0.1913 - val_accuracy: 0.9367 - val_loss: 0.2029 - learning_rate: 5.0000e-05\n",
      "Epoch 22/100\n",
      "\u001b[1m203/203\u001b[0m \u001b[32m━━━━━━━━━━━━━━━━━━━━\u001b[0m\u001b[37m\u001b[0m \u001b[1m135s\u001b[0m 663ms/step - accuracy: 0.9381 - loss: 0.1904 - val_accuracy: 0.9349 - val_loss: 0.2001 - learning_rate: 5.0000e-05\n",
      "Epoch 23/100\n",
      "\u001b[1m203/203\u001b[0m \u001b[32m━━━━━━━━━━━━━━━━━━━━\u001b[0m\u001b[37m\u001b[0m \u001b[1m0s\u001b[0m 650ms/step - accuracy: 0.9426 - loss: 0.1787"
     ]
    },
    {
     "name": "stderr",
     "output_type": "stream",
     "text": [
      "WARNING:absl:You are saving your model as an HDF5 file via `model.save()` or `keras.saving.save_model(model)`. This file format is considered legacy. We recommend using instead the native Keras format, e.g. `model.save('my_model.keras')` or `keras.saving.save_model(model, 'my_model.keras')`. \n"
     ]
    },
    {
     "name": "stdout",
     "output_type": "stream",
     "text": [
      "\u001b[1m203/203\u001b[0m \u001b[32m━━━━━━━━━━━━━━━━━━━━\u001b[0m\u001b[37m\u001b[0m \u001b[1m135s\u001b[0m 666ms/step - accuracy: 0.9426 - loss: 0.1787 - val_accuracy: 0.9375 - val_loss: 0.1983 - learning_rate: 5.0000e-05\n",
      "Epoch 24/100\n",
      "\u001b[1m203/203\u001b[0m \u001b[32m━━━━━━━━━━━━━━━━━━━━\u001b[0m\u001b[37m\u001b[0m \u001b[1m135s\u001b[0m 664ms/step - accuracy: 0.9411 - loss: 0.1808 - val_accuracy: 0.9367 - val_loss: 0.1960 - learning_rate: 5.0000e-05\n",
      "Epoch 25/100\n",
      "\u001b[1m203/203\u001b[0m \u001b[32m━━━━━━━━━━━━━━━━━━━━\u001b[0m\u001b[37m\u001b[0m \u001b[1m137s\u001b[0m 676ms/step - accuracy: 0.9450 - loss: 0.1687 - val_accuracy: 0.9370 - val_loss: 0.1947 - learning_rate: 5.0000e-05\n",
      "Epoch 26/100\n",
      "\u001b[1m203/203\u001b[0m \u001b[32m━━━━━━━━━━━━━━━━━━━━\u001b[0m\u001b[37m\u001b[0m \u001b[1m0s\u001b[0m 650ms/step - accuracy: 0.9439 - loss: 0.1700"
     ]
    },
    {
     "name": "stderr",
     "output_type": "stream",
     "text": [
      "WARNING:absl:You are saving your model as an HDF5 file via `model.save()` or `keras.saving.save_model(model)`. This file format is considered legacy. We recommend using instead the native Keras format, e.g. `model.save('my_model.keras')` or `keras.saving.save_model(model, 'my_model.keras')`. \n"
     ]
    },
    {
     "name": "stdout",
     "output_type": "stream",
     "text": [
      "\u001b[1m203/203\u001b[0m \u001b[32m━━━━━━━━━━━━━━━━━━━━\u001b[0m\u001b[37m\u001b[0m \u001b[1m135s\u001b[0m 666ms/step - accuracy: 0.9439 - loss: 0.1700 - val_accuracy: 0.9377 - val_loss: 0.1921 - learning_rate: 5.0000e-05\n",
      "Epoch 27/100\n",
      "\u001b[1m203/203\u001b[0m \u001b[32m━━━━━━━━━━━━━━━━━━━━\u001b[0m\u001b[37m\u001b[0m \u001b[1m0s\u001b[0m 656ms/step - accuracy: 0.9457 - loss: 0.1672"
     ]
    },
    {
     "name": "stderr",
     "output_type": "stream",
     "text": [
      "WARNING:absl:You are saving your model as an HDF5 file via `model.save()` or `keras.saving.save_model(model)`. This file format is considered legacy. We recommend using instead the native Keras format, e.g. `model.save('my_model.keras')` or `keras.saving.save_model(model, 'my_model.keras')`. \n"
     ]
    },
    {
     "name": "stdout",
     "output_type": "stream",
     "text": [
      "\u001b[1m203/203\u001b[0m \u001b[32m━━━━━━━━━━━━━━━━━━━━\u001b[0m\u001b[37m\u001b[0m \u001b[1m137s\u001b[0m 672ms/step - accuracy: 0.9457 - loss: 0.1672 - val_accuracy: 0.9379 - val_loss: 0.1923 - learning_rate: 5.0000e-05\n",
      "Epoch 28/100\n",
      "\u001b[1m203/203\u001b[0m \u001b[32m━━━━━━━━━━━━━━━━━━━━\u001b[0m\u001b[37m\u001b[0m \u001b[1m136s\u001b[0m 668ms/step - accuracy: 0.9472 - loss: 0.1633 - val_accuracy: 0.9374 - val_loss: 0.1913 - learning_rate: 1.0000e-05\n",
      "Epoch 29/100\n",
      "\u001b[1m203/203\u001b[0m \u001b[32m━━━━━━━━━━━━━━━━━━━━\u001b[0m\u001b[37m\u001b[0m \u001b[1m0s\u001b[0m 652ms/step - accuracy: 0.9488 - loss: 0.1611"
     ]
    },
    {
     "name": "stderr",
     "output_type": "stream",
     "text": [
      "WARNING:absl:You are saving your model as an HDF5 file via `model.save()` or `keras.saving.save_model(model)`. This file format is considered legacy. We recommend using instead the native Keras format, e.g. `model.save('my_model.keras')` or `keras.saving.save_model(model, 'my_model.keras')`. \n"
     ]
    },
    {
     "name": "stdout",
     "output_type": "stream",
     "text": [
      "\u001b[1m203/203\u001b[0m \u001b[32m━━━━━━━━━━━━━━━━━━━━\u001b[0m\u001b[37m\u001b[0m \u001b[1m136s\u001b[0m 668ms/step - accuracy: 0.9488 - loss: 0.1611 - val_accuracy: 0.9382 - val_loss: 0.1901 - learning_rate: 1.0000e-05\n",
      "Epoch 30/100\n",
      "\u001b[1m203/203\u001b[0m \u001b[32m━━━━━━━━━━━━━━━━━━━━\u001b[0m\u001b[37m\u001b[0m \u001b[1m135s\u001b[0m 664ms/step - accuracy: 0.9463 - loss: 0.1600 - val_accuracy: 0.9372 - val_loss: 0.1905 - learning_rate: 1.0000e-05\n",
      "Epoch 31/100\n",
      "\u001b[1m203/203\u001b[0m \u001b[32m━━━━━━━━━━━━━━━━━━━━\u001b[0m\u001b[37m\u001b[0m \u001b[1m134s\u001b[0m 660ms/step - accuracy: 0.9475 - loss: 0.1597 - val_accuracy: 0.9372 - val_loss: 0.1906 - learning_rate: 1.0000e-05\n",
      "Epoch 32/100\n",
      "\u001b[1m203/203\u001b[0m \u001b[32m━━━━━━━━━━━━━━━━━━━━\u001b[0m\u001b[37m\u001b[0m \u001b[1m135s\u001b[0m 665ms/step - accuracy: 0.9471 - loss: 0.1613 - val_accuracy: 0.9365 - val_loss: 0.1918 - learning_rate: 1.0000e-05\n",
      "Epoch 33/100\n",
      "\u001b[1m203/203\u001b[0m \u001b[32m━━━━━━━━━━━━━━━━━━━━\u001b[0m\u001b[37m\u001b[0m \u001b[1m135s\u001b[0m 663ms/step - accuracy: 0.9467 - loss: 0.1614 - val_accuracy: 0.9375 - val_loss: 0.1882 - learning_rate: 1.0000e-05\n",
      "Epoch 34/100\n",
      "\u001b[1m203/203\u001b[0m \u001b[32m━━━━━━━━━━━━━━━━━━━━\u001b[0m\u001b[37m\u001b[0m \u001b[1m135s\u001b[0m 664ms/step - accuracy: 0.9480 - loss: 0.1610 - val_accuracy: 0.9372 - val_loss: 0.1888 - learning_rate: 1.0000e-05\n",
      "Epoch 35/100\n",
      "\u001b[1m203/203\u001b[0m \u001b[32m━━━━━━━━━━━━━━━━━━━━\u001b[0m\u001b[37m\u001b[0m \u001b[1m135s\u001b[0m 667ms/step - accuracy: 0.9465 - loss: 0.1595 - val_accuracy: 0.9372 - val_loss: 0.1880 - learning_rate: 1.0000e-05\n",
      "Epoch 36/100\n",
      "\u001b[1m203/203\u001b[0m \u001b[32m━━━━━━━━━━━━━━━━━━━━\u001b[0m\u001b[37m\u001b[0m \u001b[1m133s\u001b[0m 656ms/step - accuracy: 0.9475 - loss: 0.1609 - val_accuracy: 0.9377 - val_loss: 0.1873 - learning_rate: 1.0000e-05\n",
      "Epoch 37/100\n",
      "\u001b[1m203/203\u001b[0m \u001b[32m━━━━━━━━━━━━━━━━━━━━\u001b[0m\u001b[37m\u001b[0m \u001b[1m134s\u001b[0m 658ms/step - accuracy: 0.9483 - loss: 0.1569 - val_accuracy: 0.9374 - val_loss: 0.1874 - learning_rate: 1.0000e-05\n",
      "Epoch 38/100\n",
      "\u001b[1m203/203\u001b[0m \u001b[32m━━━━━━━━━━━━━━━━━━━━\u001b[0m\u001b[37m\u001b[0m \u001b[1m133s\u001b[0m 655ms/step - accuracy: 0.9452 - loss: 0.1609 - val_accuracy: 0.9377 - val_loss: 0.1883 - learning_rate: 1.0000e-05\n",
      "Epoch 39/100\n",
      "\u001b[1m203/203\u001b[0m \u001b[32m━━━━━━━━━━━━━━━━━━━━\u001b[0m\u001b[37m\u001b[0m \u001b[1m133s\u001b[0m 657ms/step - accuracy: 0.9490 - loss: 0.1559 - val_accuracy: 0.9379 - val_loss: 0.1864 - learning_rate: 1.0000e-05\n",
      "Epoch 40/100\n",
      "\u001b[1m203/203\u001b[0m \u001b[32m━━━━━━━━━━━━━━━━━━━━\u001b[0m\u001b[37m\u001b[0m \u001b[1m134s\u001b[0m 658ms/step - accuracy: 0.9498 - loss: 0.1530 - val_accuracy: 0.9379 - val_loss: 0.1871 - learning_rate: 1.0000e-05\n",
      "Epoch 41/100\n",
      "\u001b[1m203/203\u001b[0m \u001b[32m━━━━━━━━━━━━━━━━━━━━\u001b[0m\u001b[37m\u001b[0m \u001b[1m133s\u001b[0m 657ms/step - accuracy: 0.9492 - loss: 0.1542 - val_accuracy: 0.9381 - val_loss: 0.1870 - learning_rate: 1.0000e-05\n",
      "Epoch 42/100\n",
      "\u001b[1m203/203\u001b[0m \u001b[32m━━━━━━━━━━━━━━━━━━━━\u001b[0m\u001b[37m\u001b[0m \u001b[1m0s\u001b[0m 648ms/step - accuracy: 0.9476 - loss: 0.1546"
     ]
    },
    {
     "name": "stderr",
     "output_type": "stream",
     "text": [
      "WARNING:absl:You are saving your model as an HDF5 file via `model.save()` or `keras.saving.save_model(model)`. This file format is considered legacy. We recommend using instead the native Keras format, e.g. `model.save('my_model.keras')` or `keras.saving.save_model(model, 'my_model.keras')`. \n"
     ]
    },
    {
     "name": "stdout",
     "output_type": "stream",
     "text": [
      "\u001b[1m203/203\u001b[0m \u001b[32m━━━━━━━━━━━━━━━━━━━━\u001b[0m\u001b[37m\u001b[0m \u001b[1m135s\u001b[0m 664ms/step - accuracy: 0.9476 - loss: 0.1546 - val_accuracy: 0.9386 - val_loss: 0.1861 - learning_rate: 1.0000e-05\n",
      "Epoch 43/100\n",
      "\u001b[1m203/203\u001b[0m \u001b[32m━━━━━━━━━━━━━━━━━━━━\u001b[0m\u001b[37m\u001b[0m \u001b[1m133s\u001b[0m 657ms/step - accuracy: 0.9485 - loss: 0.1512 - val_accuracy: 0.9381 - val_loss: 0.1857 - learning_rate: 1.0000e-05\n",
      "Epoch 44/100\n",
      "\u001b[1m203/203\u001b[0m \u001b[32m━━━━━━━━━━━━━━━━━━━━\u001b[0m\u001b[37m\u001b[0m \u001b[1m135s\u001b[0m 663ms/step - accuracy: 0.9485 - loss: 0.1542 - val_accuracy: 0.9381 - val_loss: 0.1873 - learning_rate: 1.0000e-05\n",
      "Epoch 45/100\n",
      "\u001b[1m203/203\u001b[0m \u001b[32m━━━━━━━━━━━━━━━━━━━━\u001b[0m\u001b[37m\u001b[0m \u001b[1m134s\u001b[0m 658ms/step - accuracy: 0.9493 - loss: 0.1532 - val_accuracy: 0.9386 - val_loss: 0.1853 - learning_rate: 1.0000e-05\n",
      "Epoch 46/100\n",
      "\u001b[1m203/203\u001b[0m \u001b[32m━━━━━━━━━━━━━━━━━━━━\u001b[0m\u001b[37m\u001b[0m \u001b[1m133s\u001b[0m 656ms/step - accuracy: 0.9485 - loss: 0.1556 - val_accuracy: 0.9384 - val_loss: 0.1862 - learning_rate: 1.0000e-05\n",
      "Epoch 47/100\n",
      "\u001b[1m203/203\u001b[0m \u001b[32m━━━━━━━━━━━━━━━━━━━━\u001b[0m\u001b[37m\u001b[0m \u001b[1m133s\u001b[0m 656ms/step - accuracy: 0.9485 - loss: 0.1528 - val_accuracy: 0.9361 - val_loss: 0.1848 - learning_rate: 1.0000e-05\n",
      "Epoch 48/100\n",
      "\u001b[1m203/203\u001b[0m \u001b[32m━━━━━━━━━━━━━━━━━━━━\u001b[0m\u001b[37m\u001b[0m \u001b[1m136s\u001b[0m 669ms/step - accuracy: 0.9491 - loss: 0.1520 - val_accuracy: 0.9377 - val_loss: 0.1860 - learning_rate: 1.0000e-05\n",
      "Epoch 49/100\n",
      "\u001b[1m203/203\u001b[0m \u001b[32m━━━━━━━━━━━━━━━━━━━━\u001b[0m\u001b[37m\u001b[0m \u001b[1m0s\u001b[0m 643ms/step - accuracy: 0.9507 - loss: 0.1500"
     ]
    },
    {
     "name": "stderr",
     "output_type": "stream",
     "text": [
      "WARNING:absl:You are saving your model as an HDF5 file via `model.save()` or `keras.saving.save_model(model)`. This file format is considered legacy. We recommend using instead the native Keras format, e.g. `model.save('my_model.keras')` or `keras.saving.save_model(model, 'my_model.keras')`. \n"
     ]
    },
    {
     "name": "stdout",
     "output_type": "stream",
     "text": [
      "\u001b[1m203/203\u001b[0m \u001b[32m━━━━━━━━━━━━━━━━━━━━\u001b[0m\u001b[37m\u001b[0m \u001b[1m134s\u001b[0m 659ms/step - accuracy: 0.9507 - loss: 0.1500 - val_accuracy: 0.9391 - val_loss: 0.1850 - learning_rate: 1.0000e-05\n",
      "Epoch 50/100\n",
      "\u001b[1m203/203\u001b[0m \u001b[32m━━━━━━━━━━━━━━━━━━━━\u001b[0m\u001b[37m\u001b[0m \u001b[1m135s\u001b[0m 663ms/step - accuracy: 0.9487 - loss: 0.1528 - val_accuracy: 0.9384 - val_loss: 0.1855 - learning_rate: 1.0000e-05\n",
      "Epoch 51/100\n",
      "\u001b[1m203/203\u001b[0m \u001b[32m━━━━━━━━━━━━━━━━━━━━\u001b[0m\u001b[37m\u001b[0m \u001b[1m134s\u001b[0m 658ms/step - accuracy: 0.9508 - loss: 0.1490 - val_accuracy: 0.9388 - val_loss: 0.1837 - learning_rate: 1.0000e-05\n",
      "Epoch 52/100\n",
      "\u001b[1m203/203\u001b[0m \u001b[32m━━━━━━━━━━━━━━━━━━━━\u001b[0m\u001b[37m\u001b[0m \u001b[1m135s\u001b[0m 665ms/step - accuracy: 0.9496 - loss: 0.1518 - val_accuracy: 0.9377 - val_loss: 0.1865 - learning_rate: 1.0000e-05\n",
      "Epoch 53/100\n",
      "\u001b[1m203/203\u001b[0m \u001b[32m━━━━━━━━━━━━━━━━━━━━\u001b[0m\u001b[37m\u001b[0m \u001b[1m133s\u001b[0m 655ms/step - accuracy: 0.9527 - loss: 0.1442 - val_accuracy: 0.9384 - val_loss: 0.1843 - learning_rate: 1.0000e-05\n",
      "Epoch 54/100\n",
      "\u001b[1m203/203\u001b[0m \u001b[32m━━━━━━━━━━━━━━━━━━━━\u001b[0m\u001b[37m\u001b[0m \u001b[1m133s\u001b[0m 656ms/step - accuracy: 0.9508 - loss: 0.1486 - val_accuracy: 0.9381 - val_loss: 0.1847 - learning_rate: 1.0000e-05\n",
      "Epoch 55/100\n",
      "\u001b[1m203/203\u001b[0m \u001b[32m━━━━━━━━━━━━━━━━━━━━\u001b[0m\u001b[37m\u001b[0m \u001b[1m135s\u001b[0m 666ms/step - accuracy: 0.9513 - loss: 0.1510 - val_accuracy: 0.9377 - val_loss: 0.1848 - learning_rate: 1.0000e-05\n"
     ]
    },
    {
     "data": {
      "image/png": "[encoded data removed]",
      "text/plain": [
       "<Figure size 1400x600 with 2 Axes>"
      ]
     },
     "metadata": {},
     "output_type": "display_data"
    },
    {
     "name": "stderr",
     "output_type": "stream",
     "text": [
      "WARNING:absl:Compiled the loaded model, but the compiled metrics have yet to be built. `model.compile_metrics` will be empty until you train or evaluate the model.\n"
     ]
    },
    {
     "name": "stdout",
     "output_type": "stream",
     "text": [
      "\u001b[1m225/225\u001b[0m \u001b[32m━━━━━━━━━━━━━━━━━━━━\u001b[0m\u001b[37m\u001b[0m \u001b[1m14s\u001b[0m 59ms/step\n",
      "\n",
      "\u001b[1mFinal Validation Metrics (on best model):\u001b[0m\n",
      "Accuracy: 0.9392\n",
      "Precision: 0.9503\n",
      "Recall: 0.9268\n",
      "F1-score: 0.9384\n",
      "\n",
      "\u001b[Classification Report:\u001b[0m\n",
      "              precision    recall  f1-score   support\n",
      "\n",
      "   Non-Toxic     0.9286    0.9516    0.9399      3592\n",
      "       Toxic     0.9503    0.9268    0.9384      3591\n",
      "\n",
      "    accuracy                         0.9392      7183\n",
      "   macro avg     0.9394    0.9392    0.9392      7183\n",
      "weighted avg     0.9394    0.9392    0.9392      7183\n",
      "\n"
     ]
    },
    {
     "data": {
      "image/png": "[encoded data removed]",
      "text/plain": [
       "<Figure size 800x600 with 2 Axes>"
      ]
     },
     "metadata": {},
     "output_type": "display_data"
    },
    {
     "name": "stdout",
     "output_type": "stream",
     "text": [
      "\u001b[1m1/1\u001b[0m \u001b[32m━━━━━━━━━━━━━━━━━━━━\u001b[0m\u001b[37m\u001b[0m \u001b[1m0s\u001b[0m 285ms/step\n",
      "\n",
      "Text: You're an idiot!\n",
      "Non-toxic: 3.66% | Toxic: 96.34%\n",
      "\u001b[1m1/1\u001b[0m \u001b[32m━━━━━━━━━━━━━━━━━━━━\u001b[0m\u001b[37m\u001b[0m \u001b[1m0s\u001b[0m 55ms/step\n",
      "\n",
      "Text: Have a nice day!\n",
      "Non-toxic: 81.94% | Toxic: 18.06%\n"
     ]
    }
   ],
   "source": [
    "import pandas as pd\n",
    "import numpy as np\n",
    "import re\n",
    "import matplotlib.pyplot as plt\n",
    "import seaborn as sns\n",
    "import nltk\n",
    "import spacy\n",
    "import tensorflow as tf\n",
    "from nltk.corpus import stopwords\n",
    "from nltk.stem import WordNetLemmatizer\n",
    "from nltk.tokenize import word_tokenize\n",
    "from sklearn.model_selection import train_test_split\n",
    "from sklearn.utils import resample\n",
    "from sklearn.metrics import (\n",
    "    accuracy_score,\n",
    "    precision_score,\n",
    "    recall_score,\n",
    "    f1_score,\n",
    "    classification_report,\n",
    "    confusion_matrix,\n",
    ")\n",
    "from tensorflow.keras.preprocessing.text import Tokenizer\n",
    "from tensorflow.keras.preprocessing.sequence import pad_sequences\n",
    "from tensorflow.keras.models import Sequential\n",
    "from tensorflow.keras.layers import Embedding, LSTM, Dense, Dropout\n",
    "from tensorflow.keras.optimizers import Adam\n",
    "from tensorflow.keras.regularizers import l2\n",
    "from tensorflow.keras.callbacks import EarlyStopping, ReduceLROnPlateau, ModelCheckpoint\n",
    "from tensorflow.keras.utils import to_categorical\n",
    "\n",
    "# NLTK downloads\n",
    "nltk.download(\"stopwords\")\n",
    "nltk.download(\"wordnet\")\n",
    "nltk.download(\"punkt\")\n",
    "\n",
    "# ✅ Move this function up BEFORE it's called\n",
    "def prepare_labels(df):\n",
    "    print(\"\\nAvailable columns in DataFrame:\", df.columns.tolist())\n",
    "    text_col = None\n",
    "    for possible_col in [\"comment_text\", \"text\"]:\n",
    "        if possible_col in df.columns:\n",
    "            text_col = possible_col\n",
    "            break\n",
    "    if text_col is None:\n",
    "        raise ValueError(\n",
    "            f\"No recognized text column found. Available columns: {df.columns.tolist()}\"\n",
    "        )\n",
    "\n",
    "    if \"toxic\" in df.columns:\n",
    "        print(\"Using 'toxic' column for labels\")\n",
    "        df[\"class\"] = np.where(df[\"toxic\"] >= 0.5, 1, 0)\n",
    "    else:\n",
    "        available_cols = [c for c in df.columns if c not in [text_col]]\n",
    "        raise ValueError(\n",
    "            f\"No recognized label columns found. Available columns: {df.columns.tolist()}\\n\"\n",
    "            f\"Potential label columns: {available_cols}\"\n",
    "        )\n",
    "\n",
    "    return df[[text_col, \"class\"]].rename(columns={text_col: \"tweet\"})\n",
    "\n",
    "\n",
    "# ✅ Load and merge datasets\n",
    "print(\"Loading and merging datasets...\")\n",
    "\n",
    "df1 = pd.read_csv(\"./data/labeled_data.csv\")  # Davidson et al.\n",
    "df1 = df1.rename(columns={\"tweet\": \"tweet\", \"class\": \"label\"})\n",
    "df1[\"class\"] = df1[\"label\"].apply(lambda x: 1 if x in [0, 1] else 0)\n",
    "df1 = df1[[\"tweet\", \"class\"]]\n",
    "\n",
    "df2 = pd.read_csv(\"./data/train.csv\")  # Jigsaw dataset\n",
    "df2_prepared = prepare_labels(df2)\n",
    "\n",
    "combined_df = pd.concat([df1, df2_prepared], ignore_index=True)\n",
    "combined_df.drop_duplicates(subset=\"tweet\", inplace=True)\n",
    "\n",
    "print(\"Merged dataset shape:\", combined_df.shape)\n",
    "prepared_df = combined_df  # ✅ This is the version you keep using\n",
    "\n",
    "\n",
    "def prepare_labels(df):\n",
    "    print(\"\\nAvailable columns in DataFrame:\", df.columns.tolist())\n",
    "    text_col = None\n",
    "    for possible_col in [\"comment_text\", \"text\"]:\n",
    "        if possible_col in df.columns:\n",
    "            text_col = possible_col\n",
    "            break\n",
    "    if text_col is None:\n",
    "        raise ValueError(\n",
    "            f\"No recognized text column found. Available columns: {df.columns.tolist()}\"\n",
    "        )\n",
    "\n",
    "    if \"toxic\" in df.columns:\n",
    "        print(\"Using 'toxic' column for labels\")\n",
    "        df[\"class\"] = np.where(df[\"toxic\"] >= 0.5, 1, 0)\n",
    "    else:\n",
    "        available_cols = [c for c in df.columns if c not in [text_col]]\n",
    "        raise ValueError(\n",
    "            f\"No recognized label columns found. Available columns: {df.columns.tolist()}\\n\"\n",
    "            f\"Potential label columns: {available_cols}\"\n",
    "        )\n",
    "\n",
    "    return df[[text_col, \"class\"]].rename(columns={text_col: \"tweet\"})\n",
    "\n",
    "\n",
    "print(\"Preparing data...\")\n",
    "\n",
    "print(\"\\nBalancing classes...\")\n",
    "df_majority = prepared_df[prepared_df[\"class\"] == 0]\n",
    "df_minority = prepared_df[prepared_df[\"class\"] == 1]\n",
    "if len(df_minority) == 0:\n",
    "    raise ValueError(\"No toxic samples found in dataset!\")\n",
    "\n",
    "df_majority = resample(df_majority, n_samples=len(df_minority), random_state=42)\n",
    "balanced_df = pd.concat([df_majority, df_minority]).sample(frac=1, random_state=42)\n",
    "\n",
    "print(\"\\nSetting up text cleaning...\")\n",
    "lemmatizer = WordNetLemmatizer()\n",
    "stop_words = set(stopwords.words(\"english\"))\n",
    "\n",
    "def clean_text(text):\n",
    "    try:\n",
    "        if pd.isna(text):\n",
    "            return \"\"\n",
    "        text = str(text).lower()\n",
    "        text = re.sub(r\"won't\", \"will not\", text)\n",
    "        text = re.sub(r\"can\\'t\", \"can not\", text)\n",
    "        text = re.sub(r\"n\\'t\", \" not\", text)\n",
    "        text = re.sub(r\"\\'re\", \" are\", text)\n",
    "        text = re.sub(r\"\\'s\", \" is\", text)\n",
    "        text = re.sub(r\"\\'d\", \" would\", text)\n",
    "        text = re.sub(r\"\\'ll\", \" will\", text)\n",
    "        text = re.sub(r\"\\'t\", \" not\", text)\n",
    "        text = re.sub(r\"\\'ve\", \" have\", text)\n",
    "        text = re.sub(r\"\\'m\", \" am\", text)\n",
    "        text = re.sub(r\"http\\S+|www\\S+|https\\S+\", \"\", text, flags=re.MULTILINE)\n",
    "        text = re.sub(r\"@\\w+|\\#\", \"\", text)\n",
    "        text = re.sub(r\"[^\\w\\s]\", \"\", text)\n",
    "        tokens = [\n",
    "            lemmatizer.lemmatize(word)\n",
    "            for word in word_tokenize(text)\n",
    "            if word not in stop_words\n",
    "        ]\n",
    "        return \" \".join(tokens)\n",
    "    except Exception as e:\n",
    "        print(f\"Error cleaning text: {text[:50]}... Error: {str(e)}\")\n",
    "        return \"\"\n",
    "\n",
    "print(\"\\nCleaning text with simple apply...\")\n",
    "balanced_df[\"cleaned_text\"] = balanced_df[\"tweet\"].apply(clean_text)\n",
    "\n",
    "tokenizer = Tokenizer(num_words=30000, oov_token=\"<OOV>\")\n",
    "tokenizer.fit_on_texts(balanced_df[\"cleaned_text\"])\n",
    "sequences = tokenizer.texts_to_sequences(balanced_df[\"cleaned_text\"])\n",
    "import pickle\n",
    "with open('original_tokenizer.pickle', 'wb') as handle:\n",
    "    pickle.dump(tokenizer, handle, protocol=pickle.HIGHEST_PROTOCOL)\n",
    "padded_sequences = pad_sequences(sequences, maxlen=128, truncating=\"post\")\n",
    "\n",
    "# ✅ Move this line here BEFORE splitting\n",
    "y = to_categorical(balanced_df[\"class\"])\n",
    "\n",
    "# ✅ Now do the 80/10/10 split\n",
    "X_temp, X_testval, y_temp, y_testval = train_test_split(\n",
    "    padded_sequences, y, test_size=0.2, random_state=42, stratify=balanced_df[\"class\"]\n",
    ")\n",
    "\n",
    "X_val, X_test, y_val, y_test = train_test_split(\n",
    "    X_testval, y_testval, test_size=0.5, random_state=42, stratify=np.argmax(y_testval, axis=1)\n",
    ")\n",
    "\n",
    "X_train = X_temp\n",
    "y_train = y_temp\n",
    "\n",
    "\n",
    "\n",
    "print(\"Loading word embeddings...\")\n",
    "try:\n",
    "    nlp = spacy.load(\"en_core_web_md\")\n",
    "except:\n",
    "    import subprocess\n",
    "    subprocess.run([\"python\", \"-m\", \"spacy\", \"download\", \"en_core_web_md\"])\n",
    "    nlp = spacy.load(\"en_core_web_md\")\n",
    "\n",
    "embedding_dim = 300\n",
    "vocab_size = min(30000, len(tokenizer.word_index) + 1)\n",
    "embedding_matrix = np.zeros((vocab_size, embedding_dim))\n",
    "\n",
    "for word, i in tokenizer.word_index.items():\n",
    "    if i < vocab_size:\n",
    "        embedding_matrix[i] = nlp(word).vector\n",
    "\n",
    "model = Sequential(\n",
    "    [\n",
    "        Embedding(\n",
    "            input_dim=30000,\n",
    "            output_dim=300,\n",
    "            weights=[embedding_matrix],\n",
    "            trainable=True,\n",
    "        ),\n",
    "        LSTM(\n",
    "            256, dropout=0.3, recurrent_dropout=0.3, kernel_regularizer=l2(0.01)\n",
    "        ),\n",
    "        Dense(2, activation=\"softmax\"),\n",
    "    ]\n",
    ")\n",
    "\n",
    "model.compile(\n",
    "    optimizer=Adam(learning_rate=0.00005),\n",
    "    loss=\"categorical_crossentropy\",\n",
    "    metrics=[\"accuracy\"],\n",
    ")\n",
    "\n",
    "callbacks = [\n",
    "    EarlyStopping(monitor=\"val_loss\", patience=4, restore_best_weights=True),\n",
    "    ReduceLROnPlateau(\n",
    "        monitor=\"val_loss\", factor=0.2, patience=1, min_lr=0.00001\n",
    "    ),\n",
    "    ModelCheckpoint(\n",
    "        \"8020best_toxic_model.h5\", monitor=\"val_accuracy\", mode=\"max\", save_best_only=True\n",
    "    ),\n",
    "]\n",
    "\n",
    "history = model.fit(\n",
    "    X_train,\n",
    "    y_train,\n",
    "    epochs=100,\n",
    "    batch_size=256,\n",
    "    validation_split=0.1,\n",
    "    callbacks=callbacks,\n",
    "    verbose=1,\n",
    ")\n",
    "\n",
    "# ===== NEW FUNCTION TO PLOT TRAINING HISTORY =====\n",
    "def plot_training_history(history):\n",
    "    acc = history.history[\"accuracy\"]\n",
    "    val_acc = history.history[\"val_accuracy\"]\n",
    "    loss = history.history[\"loss\"]\n",
    "    val_loss = history.history[\"val_loss\"]\n",
    "    epochs_range = range(1, len(acc) + 1)\n",
    "\n",
    "    plt.figure(figsize=(14, 6))\n",
    "\n",
    "    plt.subplot(1, 2, 1)\n",
    "    plt.plot(epochs_range, acc, label=\"Training Accuracy\", marker=\"o\")\n",
    "    plt.plot(epochs_range, val_acc, label=\"Validation Accuracy\", marker=\"o\")\n",
    "    plt.legend(loc=\"lower right\")\n",
    "    plt.title(\"Training and Validation Accuracy\")\n",
    "    plt.xlabel(\"Epochs\")\n",
    "    plt.ylabel(\"Accuracy\")\n",
    "    plt.grid(True)\n",
    "\n",
    "    plt.subplot(1, 2, 2)\n",
    "    plt.plot(epochs_range, loss, label=\"Training Loss\", marker=\"o\")\n",
    "    plt.plot(epochs_range, val_loss, label=\"Validation Loss\", marker=\"o\")\n",
    "    plt.legend(loc=\"upper right\")\n",
    "    plt.title(\"Training and Validation Loss\")\n",
    "    plt.xlabel(\"Epochs\")\n",
    "    plt.ylabel(\"Loss\")\n",
    "    plt.grid(True)\n",
    "\n",
    "    plt.tight_layout()\n",
    "    plt.show()\n",
    "\n",
    "# Call the plotting function\n",
    "plot_training_history(history)\n",
    "\n",
    "# ===== EVALUATION FUNCTION =====\n",
    "def evaluate_model(model, X_test, y_test):\n",
    "    from tensorflow.keras.models import load_model\n",
    "    best_model = load_model(\"8020best_toxic_model.h5\")\n",
    "    y_pred = best_model.predict(X_test)\n",
    "    y_pred_classes = np.argmax(y_pred, axis=1)\n",
    "    y_true = np.argmax(y_test, axis=1)\n",
    "\n",
    "    accuracy = accuracy_score(y_true, y_pred_classes)\n",
    "    precision = precision_score(y_true, y_pred_classes)\n",
    "    recall = recall_score(y_true, y_pred_classes)\n",
    "    f1 = f1_score(y_true, y_pred_classes)\n",
    "\n",
    "    print(\"\\n\\033[1mFinal Validation Metrics (on best model):\\033[0m\")\n",
    "    print(f\"Accuracy: {accuracy:.4f}\")\n",
    "    print(f\"Precision: {precision:.4f}\")\n",
    "    print(f\"Recall: {recall:.4f}\")\n",
    "    print(f\"F1-score: {f1:.4f}\\n\")\n",
    "\n",
    "    print(\"\\033[Classification Report:\\033[0m\")\n",
    "    print(classification_report(\n",
    "        y_true, y_pred_classes,\n",
    "        target_names=[\"Non-Toxic\", \"Toxic\"],\n",
    "        digits=4,\n",
    "    ))\n",
    "\n",
    "    cm = confusion_matrix(y_true, y_pred_classes)\n",
    "    plt.figure(figsize=(8, 6))\n",
    "    sns.heatmap(cm, annot=True, fmt=\"d\", cmap=\"Blues\",\n",
    "                xticklabels=[\"Non-Toxic\", \"Toxic\"],\n",
    "                yticklabels=[\"Non-Toxic\", \"Toxic\"])\n",
    "    plt.title(\"Confusion Matrix\\n(True vs Predicted)\")\n",
    "    plt.ylabel(\"Actual Label\")\n",
    "    plt.xlabel(\"Predicted Label\")\n",
    "    plt.show()\n",
    "\n",
    "# ===== PREDICTION FUNCTION =====\n",
    "def predict_toxicity(text):\n",
    "    cleaned = clean_text(text)\n",
    "    seq = tokenizer.texts_to_sequences([cleaned])\n",
    "    padded = pad_sequences(seq, maxlen=128)\n",
    "    prob = model.predict(padded)[0]\n",
    "    print(f\"\\nText: {text}\")\n",
    "    print(f\"Non-toxic: {prob[0]*100:.2f}% | Toxic: {prob[1]*100:.2f}%\")\n",
    "\n",
    "# ===== EXECUTION =====\n",
    "evaluate_model(model, X_test, y_test)\n",
    "predict_toxicity(\"You're an idiot!\")\n",
    "predict_toxicity(\"Have a nice day!\")"
   ]
  }
 ],
 "metadata": {
  "kernelspec": {
   "display_name": "Python 3",
   "language": "python",
   "name": "python3"
  },
  "language_info": {
   "codemirror_mode": {
    "name": "ipython",
    "version": 3
   },
   "file_extension": ".py",
   "mimetype": "text/x-python",
   "name": "python",
   "nbconvert_exporter": "python",
   "pygments_lexer": "ipython3",
   "version": "3.12.2"
  }
 },
 "nbformat": 4,
 "nbformat_minor": 5
}
